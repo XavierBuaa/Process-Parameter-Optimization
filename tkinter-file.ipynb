{
 "cells": [
  {
   "cell_type": "code",
   "execution_count": 4,
   "metadata": {},
   "outputs": [],
   "source": [
    "import tkinter\n",
    "import pandas as pd\n",
    "import numpy as np\n",
    "from tkinter import *\n",
    "\n",
    "file_dir = \"\"\n",
    "\n",
    "def read_csv():\n",
    "    s2fname = filedialog.askopenfilename(title=\"打开文件\", filetypes=[(\"S2out\", \"*.csv\"), (\"All Files\", \"*\")])\n",
    "    #print(s2fname)\n",
    "    file_dir = s2fname\n",
    "    raw_df = pd.read_csv(s2fname, header = None)\n",
    "    print(raw_df)\n",
    "\n",
    "root = Tk()\n",
    "root.title(\"\")\n",
    "\n",
    "btn1 = Button(root, text=\"打开文件\", font =(\"宋体\",20,'bold'), width=13, height=8, command=read_csv)\n",
    "btn1.pack(side=\"left\")\n",
    "\n",
    "root.mainloop()"
   ]
  },
  {
   "cell_type": "code",
   "execution_count": null,
   "metadata": {},
   "outputs": [],
   "source": []
  }
 ],
 "metadata": {
  "kernelspec": {
   "display_name": "Python 3",
   "language": "python",
   "name": "python3"
  },
  "language_info": {
   "codemirror_mode": {
    "name": "ipython",
    "version": 3
   },
   "file_extension": ".py",
   "mimetype": "text/x-python",
   "name": "python",
   "nbconvert_exporter": "python",
   "pygments_lexer": "ipython3",
   "version": "3.7.3"
  }
 },
 "nbformat": 4,
 "nbformat_minor": 2
}
