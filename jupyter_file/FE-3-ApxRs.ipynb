{
 "cells": [
  {
   "cell_type": "code",
   "execution_count": 1,
   "metadata": {},
   "outputs": [],
   "source": [
    "import pandas as pd\n",
    "import numpy as np\n",
    "from sklearn.linear_model import LogisticRegression\n",
    "from sklearn.svm import SVC\n",
    "from xgboost.sklearn import XGBRegressor\n",
    "from xgboost.sklearn import XGBClassifier\n",
    "from sklearn.ensemble import GradientBoostingRegressor\n",
    "from sklearn.model_selection import StratifiedKFold\n",
    "from sklearn.preprocessing import OneHotEncoder\n",
    "import numpy\n",
    "import xlrd"
   ]
  },
  {
   "cell_type": "code",
   "execution_count": 2,
   "metadata": {},
   "outputs": [],
   "source": [
    "def re_cate(label):\n",
    "    if label >2:\n",
    "        return 1\n",
    "    else:\n",
    "        return 0"
   ]
  },
  {
   "cell_type": "code",
   "execution_count": 3,
   "metadata": {},
   "outputs": [
    {
     "name": "stderr",
     "output_type": "stream",
     "text": [
      "F:\\Anaconda\\Anaconda\\lib\\site-packages\\ipykernel_launcher.py:4: FutureWarning: Method .as_matrix will be removed in a future version. Use .values instead.\n",
      "  after removing the cwd from sys.path.\n"
     ]
    }
   ],
   "source": [
    "raw_df = pd.read_csv(\"data.csv\", header = None)\n",
    "raw_df.rename(columns = {0:'Ae', 1:'Ap', 2:'Rs', 3:'Fz', 4:'label'}, inplace = True)\n",
    "raw_df['label'] = raw_df.apply(lambda x : re_cate(x.label), axis = 1)\n",
    "raw_label = raw_df['label'].as_matrix()\n",
    "raw_df.drop(columns = ['Fz'], axis = 1, inplace = True)\n",
    "raw_df.drop(columns = ['label'], axis = 1, inplace = True)"
   ]
  },
  {
   "cell_type": "code",
   "execution_count": 4,
   "metadata": {},
   "outputs": [],
   "source": [
    "raw_df['ApxRs'] = raw_df['Ap']*raw_df['Rs']"
   ]
  },
  {
   "cell_type": "code",
   "execution_count": 5,
   "metadata": {},
   "outputs": [
    {
     "name": "stderr",
     "output_type": "stream",
     "text": [
      "F:\\Anaconda\\Anaconda\\lib\\site-packages\\ipykernel_launcher.py:1: FutureWarning: Method .as_matrix will be removed in a future version. Use .values instead.\n",
      "  \"\"\"Entry point for launching an IPython kernel.\n"
     ]
    }
   ],
   "source": [
    "raw_feature = raw_df.as_matrix()\n",
    "raw_feature_mean = raw_feature.mean(axis = 0)\n",
    "raw_feature_std = raw_feature.std(axis = 0)\n",
    "raw_feature_normalized = (raw_feature - raw_feature_mean)/raw_feature_std"
   ]
  },
  {
   "cell_type": "code",
   "execution_count": 6,
   "metadata": {},
   "outputs": [
    {
     "data": {
      "text/plain": [
       "array([[ 1.12115264, -0.50296946, -1.64316767, -0.71075051],\n",
       "       [ 1.12115264, -0.50296946, -1.46059349, -0.68249005],\n",
       "       [ 1.12115264, -0.50296946, -1.2780193 , -0.6542296 ],\n",
       "       ...,\n",
       "       [-1.56961369,  0.23824869,  1.2780193 ,  0.69096819],\n",
       "       [-1.56961369,  0.23824869,  1.46059349,  0.75879329],\n",
       "       [-1.56961369,  0.23824869,  1.64316767,  0.82661839]])"
      ]
     },
     "execution_count": 6,
     "metadata": {},
     "output_type": "execute_result"
    }
   ],
   "source": [
    "raw_feature_normalized"
   ]
  },
  {
   "cell_type": "code",
   "execution_count": 7,
   "metadata": {},
   "outputs": [],
   "source": [
    "kfold = StratifiedKFold(n_splits=10, shuffle=True, random_state=7)"
   ]
  },
  {
   "cell_type": "code",
   "execution_count": 8,
   "metadata": {},
   "outputs": [],
   "source": [
    "lr = LogisticRegression(solver='newton-cg', multi_class='multinomial', C=4, tol=1e-6, max_iter=20)"
   ]
  },
  {
   "cell_type": "code",
   "execution_count": 9,
   "metadata": {},
   "outputs": [
    {
     "name": "stdout",
     "output_type": "stream",
     "text": [
      "#### In Cross Validation 0: ####\n",
      "NumofIns Precisely Classified :  27 \t NumofIns :  39 \t Pre_Accuracy :  0.6923076923076923 \t\n",
      "#### In Cross Validation 1: ####\n",
      "NumofIns Precisely Classified :  24 \t NumofIns :  39 \t Pre_Accuracy :  0.6153846153846154 \t\n",
      "#### In Cross Validation 2: ####\n",
      "NumofIns Precisely Classified :  27 \t NumofIns :  38 \t Pre_Accuracy :  0.7105263157894737 \t\n",
      "#### In Cross Validation 3: ####\n",
      "NumofIns Precisely Classified :  26 \t NumofIns :  38 \t Pre_Accuracy :  0.6842105263157895 \t\n",
      "#### In Cross Validation 4: ####\n",
      "NumofIns Precisely Classified :  26 \t NumofIns :  38 \t Pre_Accuracy :  0.6842105263157895 \t\n",
      "#### In Cross Validation 5: ####\n",
      "NumofIns Precisely Classified :  27 \t NumofIns :  38 \t Pre_Accuracy :  0.7105263157894737 \t\n",
      "#### In Cross Validation 6: ####\n",
      "NumofIns Precisely Classified :  22 \t NumofIns :  38 \t Pre_Accuracy :  0.5789473684210527 \t\n",
      "#### In Cross Validation 7: ####\n",
      "NumofIns Precisely Classified :  22 \t NumofIns :  38 \t Pre_Accuracy :  0.5789473684210527 \t\n",
      "#### In Cross Validation 8: ####\n",
      "NumofIns Precisely Classified :  24 \t NumofIns :  37 \t Pre_Accuracy :  0.6486486486486487 \t\n",
      "#### In Cross Validation 9: ####\n",
      "NumofIns Precisely Classified :  26 \t NumofIns :  37 \t Pre_Accuracy :  0.7027027027027027 \t\n",
      "mean of NumofIns precisely classified 0.6606412080096292\n"
     ]
    }
   ],
   "source": [
    "count_CV = 0\n",
    "test_acc_record = []\n",
    "test_pre_record = []\n",
    "\n",
    "for train_index,test_index in kfold.split(raw_feature_normalized, raw_label):\n",
    "    lr.fit(raw_feature_normalized[train_index], raw_label[train_index])\n",
    "    pred_smile_label = lr.predict(raw_feature_normalized[test_index])\n",
    "    real_label = raw_label[test_index]\n",
    "    \n",
    "    test_count_num = 0\n",
    "    real_label_index = 0\n",
    "    pre_label_num = 0\n",
    "    \n",
    "    for label in pred_smile_label:\n",
    "        if label == real_label[real_label_index]:\n",
    "            pre_label_num += 1\n",
    "        real_label_index += 1\n",
    "        test_count_num += 1\n",
    "    \n",
    "    print('#### In Cross Validation %d: ####'% count_CV)\n",
    "    count_CV += 1\n",
    "    print('NumofIns Precisely Classified : ',pre_label_num,'\\t',\n",
    "          'NumofIns : ',test_count_num,'\\t',\n",
    "          'Pre_Accuracy : ',pre_label_num/test_count_num,'\\t',)\n",
    "    \n",
    "    test_pre_record.append(pre_label_num/test_count_num)\n",
    "\n",
    "print('mean of NumofIns precisely classified',numpy.mean(test_pre_record))"
   ]
  },
  {
   "cell_type": "code",
   "execution_count": 10,
   "metadata": {},
   "outputs": [],
   "source": [
    "SVM = SVC(kernel='rbf',decision_function_shape='ovo',C=20,shrinking =False,tol =1e-6)"
   ]
  },
  {
   "cell_type": "code",
   "execution_count": 11,
   "metadata": {},
   "outputs": [
    {
     "name": "stdout",
     "output_type": "stream",
     "text": [
      "#### In Cross Validation 0: ####\n",
      "NumofIns Precisely Classified :  31 \t NumofIns :  39 \t Pre_Accuracy :  0.7948717948717948 \t\n",
      "#### In Cross Validation 1: ####\n",
      "NumofIns Precisely Classified :  30 \t NumofIns :  39 \t Pre_Accuracy :  0.7692307692307693 \t\n",
      "#### In Cross Validation 2: ####\n",
      "NumofIns Precisely Classified :  35 \t NumofIns :  38 \t Pre_Accuracy :  0.9210526315789473 \t\n",
      "#### In Cross Validation 3: ####\n",
      "NumofIns Precisely Classified :  27 \t NumofIns :  38 \t Pre_Accuracy :  0.7105263157894737 \t\n",
      "#### In Cross Validation 4: ####\n",
      "NumofIns Precisely Classified :  34 \t NumofIns :  38 \t Pre_Accuracy :  0.8947368421052632 \t\n",
      "#### In Cross Validation 5: ####\n",
      "NumofIns Precisely Classified :  28 \t NumofIns :  38 \t Pre_Accuracy :  0.7368421052631579 \t\n",
      "#### In Cross Validation 6: ####\n",
      "NumofIns Precisely Classified :  30 \t NumofIns :  38 \t Pre_Accuracy :  0.7894736842105263 \t\n",
      "#### In Cross Validation 7: ####\n",
      "NumofIns Precisely Classified :  31 \t NumofIns :  38 \t Pre_Accuracy :  0.8157894736842105 \t\n",
      "#### In Cross Validation 8: ####\n",
      "NumofIns Precisely Classified :  28 \t NumofIns :  37 \t Pre_Accuracy :  0.7567567567567568 \t\n",
      "#### In Cross Validation 9: ####\n",
      "NumofIns Precisely Classified :  32 \t NumofIns :  37 \t Pre_Accuracy :  0.8648648648648649 \t\n",
      "mean of NumofIns precisely classified 0.8054145238355765\n"
     ]
    },
    {
     "name": "stderr",
     "output_type": "stream",
     "text": [
      "F:\\Anaconda\\Anaconda\\lib\\site-packages\\sklearn\\svm\\base.py:196: FutureWarning: The default value of gamma will change from 'auto' to 'scale' in version 0.22 to account better for unscaled features. Set gamma explicitly to 'auto' or 'scale' to avoid this warning.\n",
      "  \"avoid this warning.\", FutureWarning)\n",
      "F:\\Anaconda\\Anaconda\\lib\\site-packages\\sklearn\\svm\\base.py:196: FutureWarning: The default value of gamma will change from 'auto' to 'scale' in version 0.22 to account better for unscaled features. Set gamma explicitly to 'auto' or 'scale' to avoid this warning.\n",
      "  \"avoid this warning.\", FutureWarning)\n",
      "F:\\Anaconda\\Anaconda\\lib\\site-packages\\sklearn\\svm\\base.py:196: FutureWarning: The default value of gamma will change from 'auto' to 'scale' in version 0.22 to account better for unscaled features. Set gamma explicitly to 'auto' or 'scale' to avoid this warning.\n",
      "  \"avoid this warning.\", FutureWarning)\n",
      "F:\\Anaconda\\Anaconda\\lib\\site-packages\\sklearn\\svm\\base.py:196: FutureWarning: The default value of gamma will change from 'auto' to 'scale' in version 0.22 to account better for unscaled features. Set gamma explicitly to 'auto' or 'scale' to avoid this warning.\n",
      "  \"avoid this warning.\", FutureWarning)\n",
      "F:\\Anaconda\\Anaconda\\lib\\site-packages\\sklearn\\svm\\base.py:196: FutureWarning: The default value of gamma will change from 'auto' to 'scale' in version 0.22 to account better for unscaled features. Set gamma explicitly to 'auto' or 'scale' to avoid this warning.\n",
      "  \"avoid this warning.\", FutureWarning)\n",
      "F:\\Anaconda\\Anaconda\\lib\\site-packages\\sklearn\\svm\\base.py:196: FutureWarning: The default value of gamma will change from 'auto' to 'scale' in version 0.22 to account better for unscaled features. Set gamma explicitly to 'auto' or 'scale' to avoid this warning.\n",
      "  \"avoid this warning.\", FutureWarning)\n",
      "F:\\Anaconda\\Anaconda\\lib\\site-packages\\sklearn\\svm\\base.py:196: FutureWarning: The default value of gamma will change from 'auto' to 'scale' in version 0.22 to account better for unscaled features. Set gamma explicitly to 'auto' or 'scale' to avoid this warning.\n",
      "  \"avoid this warning.\", FutureWarning)\n",
      "F:\\Anaconda\\Anaconda\\lib\\site-packages\\sklearn\\svm\\base.py:196: FutureWarning: The default value of gamma will change from 'auto' to 'scale' in version 0.22 to account better for unscaled features. Set gamma explicitly to 'auto' or 'scale' to avoid this warning.\n",
      "  \"avoid this warning.\", FutureWarning)\n",
      "F:\\Anaconda\\Anaconda\\lib\\site-packages\\sklearn\\svm\\base.py:196: FutureWarning: The default value of gamma will change from 'auto' to 'scale' in version 0.22 to account better for unscaled features. Set gamma explicitly to 'auto' or 'scale' to avoid this warning.\n",
      "  \"avoid this warning.\", FutureWarning)\n",
      "F:\\Anaconda\\Anaconda\\lib\\site-packages\\sklearn\\svm\\base.py:196: FutureWarning: The default value of gamma will change from 'auto' to 'scale' in version 0.22 to account better for unscaled features. Set gamma explicitly to 'auto' or 'scale' to avoid this warning.\n",
      "  \"avoid this warning.\", FutureWarning)\n"
     ]
    }
   ],
   "source": [
    "count_CV = 0\n",
    "test_acc_record = []\n",
    "test_pre_record = []\n",
    "\n",
    "for train_index,test_index in kfold.split(raw_feature_normalized, raw_label):\n",
    "    SVM.fit(raw_feature_normalized[train_index], raw_label[train_index])\n",
    "    pred_smile_label = SVM.predict(raw_feature_normalized[test_index])\n",
    "    real_label = raw_label[test_index]\n",
    "    \n",
    "    test_count_num = 0\n",
    "    real_label_index = 0\n",
    "    pre_label_num = 0\n",
    "    \n",
    "    for label in pred_smile_label:\n",
    "        if label == real_label[real_label_index]:\n",
    "            pre_label_num += 1\n",
    "        real_label_index += 1\n",
    "        test_count_num += 1\n",
    "    \n",
    "    print('#### In Cross Validation %d: ####'% count_CV)\n",
    "    count_CV += 1\n",
    "    print('NumofIns Precisely Classified : ',pre_label_num,'\\t',\n",
    "          'NumofIns : ',test_count_num,'\\t',\n",
    "          'Pre_Accuracy : ',pre_label_num/test_count_num,'\\t',)\n",
    "    \n",
    "    test_pre_record.append(pre_label_num/test_count_num)\n",
    "\n",
    "print('mean of NumofIns precisely classified',numpy.mean(test_pre_record))"
   ]
  },
  {
   "cell_type": "code",
   "execution_count": 12,
   "metadata": {},
   "outputs": [],
   "source": [
    "XGB_C = XGBClassifier(\n",
    "    #booster = 'gblinear',\n",
    "    #objective='multi:softmax',\n",
    "    #num_class=7,#必须要考虑到0的情况。这个数据集里面没有零\n",
    "    n_estimators=200,\n",
    "    max_depth=4,\n",
    "    min_child_weight = 5,\n",
    "    scale_pos_weight = 5,\n",
    "    num_boost_round =5,\n",
    "    max_delta_step=1000,\n",
    "    alpha =2,\n",
    "    eta=1\n",
    "    #colsample_bytree=0.9\n",
    "    #gamma=5,\n",
    "    #process_type='update'\n",
    ")"
   ]
  },
  {
   "cell_type": "code",
   "execution_count": 13,
   "metadata": {},
   "outputs": [
    {
     "name": "stdout",
     "output_type": "stream",
     "text": [
      "#### In Cross Validation 0: ####\n",
      "NumofIns Precisely Classified :  31 \t NumofIns :  39 \t Pre_Accuracy :  0.7948717948717948 \t\n",
      "#### In Cross Validation 1: ####\n",
      "NumofIns Precisely Classified :  34 \t NumofIns :  39 \t Pre_Accuracy :  0.8717948717948718 \t\n",
      "#### In Cross Validation 2: ####\n",
      "NumofIns Precisely Classified :  28 \t NumofIns :  38 \t Pre_Accuracy :  0.7368421052631579 \t\n",
      "#### In Cross Validation 3: ####\n",
      "NumofIns Precisely Classified :  29 \t NumofIns :  38 \t Pre_Accuracy :  0.7631578947368421 \t\n",
      "#### In Cross Validation 4: ####\n",
      "NumofIns Precisely Classified :  32 \t NumofIns :  38 \t Pre_Accuracy :  0.8421052631578947 \t\n",
      "#### In Cross Validation 5: ####\n",
      "NumofIns Precisely Classified :  30 \t NumofIns :  38 \t Pre_Accuracy :  0.7894736842105263 \t\n",
      "#### In Cross Validation 6: ####\n",
      "NumofIns Precisely Classified :  32 \t NumofIns :  38 \t Pre_Accuracy :  0.8421052631578947 \t\n",
      "#### In Cross Validation 7: ####\n",
      "NumofIns Precisely Classified :  32 \t NumofIns :  38 \t Pre_Accuracy :  0.8421052631578947 \t\n",
      "#### In Cross Validation 8: ####\n",
      "NumofIns Precisely Classified :  33 \t NumofIns :  37 \t Pre_Accuracy :  0.8918918918918919 \t\n",
      "#### In Cross Validation 9: ####\n",
      "NumofIns Precisely Classified :  32 \t NumofIns :  37 \t Pre_Accuracy :  0.8648648648648649 \t\n",
      "mean of NumofIns precisely classified 0.8239212897107635\n"
     ]
    }
   ],
   "source": [
    "count_CV = 0\n",
    "test_acc_record = []\n",
    "test_pre_record = []\n",
    "\n",
    "for train_index,test_index in kfold.split(raw_feature_normalized, raw_label):\n",
    "    XGB_C.fit(raw_feature_normalized[train_index], raw_label[train_index])\n",
    "    pred_smile_label = XGB_C.predict(raw_feature_normalized[test_index])\n",
    "    real_label = raw_label[test_index]\n",
    "    \n",
    "    test_count_num = 0\n",
    "    real_label_index = 0\n",
    "    pre_label_num = 0\n",
    "    \n",
    "    for label in pred_smile_label:\n",
    "        if label == real_label[real_label_index]:\n",
    "            pre_label_num += 1\n",
    "        real_label_index += 1\n",
    "        test_count_num += 1\n",
    "    \n",
    "    print('#### In Cross Validation %d: ####'% count_CV)\n",
    "    count_CV += 1\n",
    "    print('NumofIns Precisely Classified : ',pre_label_num,'\\t',\n",
    "          'NumofIns : ',test_count_num,'\\t',\n",
    "          'Pre_Accuracy : ',pre_label_num/test_count_num,'\\t',)\n",
    "    \n",
    "    test_pre_record.append(pre_label_num/test_count_num)\n",
    "\n",
    "print('mean of NumofIns precisely classified',numpy.mean(test_pre_record))"
   ]
  },
  {
   "cell_type": "code",
   "execution_count": null,
   "metadata": {},
   "outputs": [],
   "source": []
  },
  {
   "cell_type": "code",
   "execution_count": null,
   "metadata": {},
   "outputs": [],
   "source": []
  }
 ],
 "metadata": {
  "kernelspec": {
   "display_name": "Python 3",
   "language": "python",
   "name": "python3"
  },
  "language_info": {
   "codemirror_mode": {
    "name": "ipython",
    "version": 3
   },
   "file_extension": ".py",
   "mimetype": "text/x-python",
   "name": "python",
   "nbconvert_exporter": "python",
   "pygments_lexer": "ipython3",
   "version": "3.7.3"
  }
 },
 "nbformat": 4,
 "nbformat_minor": 2
}
