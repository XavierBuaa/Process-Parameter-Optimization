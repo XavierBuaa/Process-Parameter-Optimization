{
 "cells": [
  {
   "cell_type": "code",
   "execution_count": 15,
   "metadata": {},
   "outputs": [],
   "source": [
    "import pandas as pd\n",
    "import numpy as np\n",
    "from xgboost.sklearn import XGBRegressor\n",
    "from sklearn.ensemble import GradientBoostingRegressor\n",
    "from sklearn.model_selection import StratifiedKFold\n",
    "from sklearn.preprocessing import OneHotEncoder\n",
    "from sklearn.linear_model import LogisticRegression\n",
    "from sklearn.svm import SVC\n",
    "from xgboost.sklearn import XGBRegressor\n",
    "from xgboost.sklearn import XGBClassifier\n",
    "import numpy\n",
    "import xlrd"
   ]
  },
  {
   "cell_type": "code",
   "execution_count": 2,
   "metadata": {},
   "outputs": [],
   "source": [
    "def re_cate(label):\n",
    "    if label > 1.6 :\n",
    "        return 1\n",
    "    else:\n",
    "        return 0"
   ]
  },
  {
   "cell_type": "code",
   "execution_count": 3,
   "metadata": {},
   "outputs": [
    {
     "name": "stderr",
     "output_type": "stream",
     "text": [
      "/anaconda3/lib/python3.7/site-packages/ipykernel_launcher.py:3: FutureWarning: Method .as_matrix will be removed in a future version. Use .values instead.\n",
      "  This is separate from the ipykernel package so we can avoid doing imports until\n"
     ]
    }
   ],
   "source": [
    "raw_df = pd.read_csv(\"data_entropy.csv\", header = None)\n",
    "raw_df.rename(columns = {0:'Ae', 1:'Ap', 2:'Rs', 3:'Fz', 4:'label'}, inplace = True)\n",
    "raw_label = raw_df['label'].as_matrix()\n",
    "raw_df['label'] = raw_df.apply(lambda x : re_cate(x.label), axis = 1)\n",
    "accuracy_label = raw_df['label'].values\n",
    "raw_df.drop(columns = ['Fz'], axis = 1, inplace = True)\n",
    "raw_df.drop(columns = ['label'], axis = 1, inplace = True)"
   ]
  },
  {
   "cell_type": "code",
   "execution_count": 4,
   "metadata": {
    "scrolled": true
   },
   "outputs": [
    {
     "data": {
      "text/plain": [
       "array([1.453, 1.241, 1.145, 1.601, 1.347, 1.548, 1.334, 1.597, 1.437,\n",
       "       1.374, 1.349, 1.515, 1.434, 1.342, 1.547, 1.604, 1.703, 1.684,\n",
       "       1.675, 1.558, 1.524, 1.505, 1.698, 1.448, 1.577, 1.348, 1.509,\n",
       "       1.512, 1.265, 1.708, 1.777, 1.364, 1.164, 1.468, 1.795, 2.146,\n",
       "       1.876, 1.764, 1.908, 1.556, 1.555, 1.898, 1.548, 1.846, 1.605,\n",
       "       1.885, 1.558, 1.609, 1.601, 1.861, 1.66 , 1.423, 1.771, 2.15 ,\n",
       "       1.994, 1.947, 1.944, 1.999, 1.806, 1.946, 1.991, 1.664, 1.944,\n",
       "       1.608, 1.959, 1.705, 1.445, 2.067, 2.006, 1.469, 1.668, 1.908,\n",
       "       2.005, 1.79 , 1.945, 1.95 , 2.035, 1.896, 2.015, 2.   , 2.158,\n",
       "       1.894, 2.054, 1.874, 1.998, 2.097, 2.311, 2.005, 2.1  , 2.064,\n",
       "       1.995, 1.941, 1.895, 1.964, 1.994, 1.798, 1.751, 1.726, 1.801,\n",
       "       1.486, 1.799, 1.618, 1.41 , 1.541, 1.785, 1.617, 1.904, 1.816,\n",
       "       1.804, 1.589, 1.34 , 1.845, 1.947, 1.912, 2.051, 1.853, 1.671,\n",
       "       2.18 , 1.794, 1.644, 1.608, 2.109, 1.556, 1.802, 2.145, 1.981,\n",
       "       1.555, 1.489, 1.632, 1.772, 1.946, 1.913, 1.939, 2.215, 1.734,\n",
       "       1.619, 2.331, 1.817, 1.772, 1.6  , 2.13 , 1.505, 1.616, 2.257,\n",
       "       1.904, 1.709, 1.321, 1.724, 2.168, 2.034, 1.993, 2.23 , 2.272,\n",
       "       2.056, 1.658, 2.496, 2.113, 1.807, 1.623, 2.265, 1.504, 1.816,\n",
       "       2.361, 2.168, 1.701, 1.632, 2.268, 2.105, 2.224, 2.215, 2.217,\n",
       "       2.312, 1.781, 1.846, 1.963, 1.903, 1.886, 1.431, 2.099, 1.498,\n",
       "       1.667, 2.422, 2.28 , 1.735, 1.643, 1.942, 2.112, 2.131, 1.947,\n",
       "       1.968, 1.436, 1.069, 1.421, 1.654, 1.22 , 1.759, 1.359, 1.659,\n",
       "       1.069, 1.246, 1.365, 1.998, 1.662, 1.514, 1.365, 1.405, 1.954,\n",
       "       2.069, 2.485, 1.668, 1.721, 1.605, 1.78 , 1.348, 1.804, 1.368,\n",
       "       1.605, 1.364, 1.548, 1.648, 2.105, 1.607, 1.655, 1.685, 2.009,\n",
       "       2.196, 2.144, 2.184, 1.998, 2.157, 1.627, 1.884, 1.908, 2.064,\n",
       "       1.548, 2.154, 1.459, 1.746, 1.888, 2.015, 1.705, 1.778, 1.698,\n",
       "       1.999, 2.004, 2.04 , 2.374, 2.064, 2.147, 1.867, 2.059, 1.705,\n",
       "       2.3  , 1.757, 2.054, 1.654, 1.669, 1.889, 2.432, 1.9  , 1.874,\n",
       "       2.14 , 1.975, 2.147, 2.4  , 2.004, 1.996, 2.042, 1.857, 1.985,\n",
       "       2.374, 2.221, 1.905, 2.414, 2.375, 1.777, 2.041, 2.455, 2.245,\n",
       "       1.757, 2.375, 2.2  , 2.047, 2.471, 2.41 , 2.116, 2.094, 2.149,\n",
       "       1.642, 1.462, 1.787, 1.442, 1.45 , 1.366, 1.457, 1.87 , 2.006,\n",
       "       1.984, 1.597, 1.519, 1.974, 2.014, 1.947, 2.106, 2.245, 2.169,\n",
       "       2.041, 1.647, 1.806, 1.464, 1.476, 1.497, 1.467, 1.614, 1.867,\n",
       "       2.041, 1.998, 1.658, 1.617, 1.999, 2.143, 2.143, 2.057, 2.146,\n",
       "       1.984, 2.417, 2.16 , 1.901, 2.246, 1.546, 1.9  , 1.678, 1.605,\n",
       "       2.005, 2.41 , 2.14 , 1.708, 1.889, 2.106, 2.114, 2.347, 2.347,\n",
       "       2.331, 2.405, 2.146, 2.417, 2.104, 2.347, 1.506, 2.234, 2.409,\n",
       "       1.445, 2.197, 2.347, 2.222, 1.807, 1.915, 2.064, 2.246, 2.4  ,\n",
       "       2.467, 2.481, 2.414, 2.149, 2.146, 2.454, 2.471, 1.776, 2.149,\n",
       "       2.347, 1.808, 2.274, 2.432, 2.326, 2.054, 2.054, 2.314, 2.498,\n",
       "       2.316, 2.574])"
      ]
     },
     "execution_count": 4,
     "metadata": {},
     "output_type": "execute_result"
    }
   ],
   "source": [
    "raw_label"
   ]
  },
  {
   "cell_type": "code",
   "execution_count": 5,
   "metadata": {},
   "outputs": [],
   "source": [
    "raw_df['ApxRs'] = raw_df['Ap']*raw_df['Rs']\n",
    "raw_df['AexRs'] = raw_df['Ae']*raw_df['Rs']\n",
    "raw_df['AexAp'] = raw_df['Ae']*raw_df['Ap']\n",
    "raw_df['ApxRsxAe'] = raw_df['Ap']*raw_df['Rs']*raw_df['Ae']"
   ]
  },
  {
   "cell_type": "code",
   "execution_count": 6,
   "metadata": {},
   "outputs": [
    {
     "name": "stderr",
     "output_type": "stream",
     "text": [
      "/anaconda3/lib/python3.7/site-packages/ipykernel_launcher.py:1: FutureWarning: Method .as_matrix will be removed in a future version. Use .values instead.\n",
      "  \"\"\"Entry point for launching an IPython kernel.\n"
     ]
    }
   ],
   "source": [
    "raw_feature = raw_df.as_matrix()\n",
    "raw_feature_mean = raw_feature.mean(axis = 0)\n",
    "raw_feature_std = raw_feature.std(axis = 0)\n",
    "raw_feature_normalized = (raw_feature - raw_feature_mean)/raw_feature_std"
   ]
  },
  {
   "cell_type": "code",
   "execution_count": 7,
   "metadata": {},
   "outputs": [
    {
     "data": {
      "text/plain": [
       "(380, 7)"
      ]
     },
     "execution_count": 7,
     "metadata": {},
     "output_type": "execute_result"
    }
   ],
   "source": [
    "raw_feature_normalized.shape"
   ]
  },
  {
   "cell_type": "code",
   "execution_count": 8,
   "metadata": {},
   "outputs": [
    {
     "data": {
      "text/plain": [
       "array([[ 1.12115264, -0.50296946, -1.64316767, ..., -0.38124894,\n",
       "         1.21998856, -0.59482889],\n",
       "       [ 1.12115264, -0.50296946, -1.46059349, ..., -0.23601125,\n",
       "         1.21998856, -0.42774213],\n",
       "       [ 1.12115264, -0.50296946, -1.2780193 , ..., -0.09077356,\n",
       "         1.21998856, -0.26065536],\n",
       "       ...,\n",
       "       [-1.56961369,  0.23824869,  1.2780193 , ..., -1.19458001,\n",
       "        -1.67748427, -0.96910326],\n",
       "       [-1.56961369,  0.23824869,  1.46059349, ..., -1.18005624,\n",
       "        -1.67748427, -0.92900243],\n",
       "       [-1.56961369,  0.23824869,  1.64316767, ..., -1.16553247,\n",
       "        -1.67748427, -0.88890161]])"
      ]
     },
     "execution_count": 8,
     "metadata": {},
     "output_type": "execute_result"
    }
   ],
   "source": [
    "raw_feature_normalized"
   ]
  },
  {
   "cell_type": "code",
   "execution_count": 9,
   "metadata": {},
   "outputs": [],
   "source": [
    "grd = GradientBoostingRegressor(n_estimators=100, learning_rate= 0.01, loss= 'ls', max_depth=3)"
   ]
  },
  {
   "cell_type": "code",
   "execution_count": 10,
   "metadata": {},
   "outputs": [],
   "source": [
    "kfold = StratifiedKFold(n_splits=10, shuffle=True, random_state=7)"
   ]
  },
  {
   "cell_type": "code",
   "execution_count": 11,
   "metadata": {},
   "outputs": [
    {
     "name": "stdout",
     "output_type": "stream",
     "text": [
      "#### In Cross Validation 0: ####\n",
      "NumofIns Precisely Classified :  31 \t NumofIns :  39 \t Pre_Accuracy :  0.7948717948717948 \t\n",
      "#### In Cross Validation 1: ####\n",
      "NumofIns Precisely Classified :  31 \t NumofIns :  39 \t Pre_Accuracy :  0.7948717948717948 \t\n",
      "#### In Cross Validation 2: ####\n",
      "NumofIns Precisely Classified :  30 \t NumofIns :  38 \t Pre_Accuracy :  0.7894736842105263 \t\n",
      "#### In Cross Validation 3: ####\n",
      "NumofIns Precisely Classified :  30 \t NumofIns :  38 \t Pre_Accuracy :  0.7894736842105263 \t\n",
      "#### In Cross Validation 4: ####\n",
      "NumofIns Precisely Classified :  30 \t NumofIns :  38 \t Pre_Accuracy :  0.7894736842105263 \t\n",
      "#### In Cross Validation 5: ####\n",
      "NumofIns Precisely Classified :  30 \t NumofIns :  38 \t Pre_Accuracy :  0.7894736842105263 \t\n",
      "#### In Cross Validation 6: ####\n",
      "NumofIns Precisely Classified :  30 \t NumofIns :  38 \t Pre_Accuracy :  0.7894736842105263 \t\n",
      "#### In Cross Validation 7: ####\n",
      "NumofIns Precisely Classified :  30 \t NumofIns :  38 \t Pre_Accuracy :  0.7894736842105263 \t\n",
      "#### In Cross Validation 8: ####\n",
      "NumofIns Precisely Classified :  30 \t NumofIns :  37 \t Pre_Accuracy :  0.8108108108108109 \t\n",
      "#### In Cross Validation 9: ####\n",
      "NumofIns Precisely Classified :  30 \t NumofIns :  37 \t Pre_Accuracy :  0.8108108108108109 \t\n",
      "mean of NumofIns precisely classified 0.7948207316628368\n"
     ]
    }
   ],
   "source": [
    "count_CV = 0\n",
    "test_acc_record = []\n",
    "test_pre_record = []\n",
    "\n",
    "for train_index,test_index in kfold.split(raw_feature_normalized, accuracy_label):\n",
    "    grd.fit(raw_feature_normalized[train_index], raw_label[train_index])\n",
    "    pred_smile_label = grd.predict(raw_feature_normalized[test_index])\n",
    "    real_label = accuracy_label[test_index]\n",
    "    \n",
    "    test_count_num = 0\n",
    "    real_label_index = 0\n",
    "    pre_label_num = 0\n",
    "    \n",
    "    for label in pred_smile_label:\n",
    "        if label > 1.6:\n",
    "            label = 1\n",
    "            if label == real_label[real_label_index]:\n",
    "                pre_label_num += 1\n",
    "        else:\n",
    "            label = 0\n",
    "            if label == real_label[real_label_index]:\n",
    "                pre_label_num += 1\n",
    "        real_label_index += 1\n",
    "        test_count_num += 1\n",
    "    \n",
    "    print('#### In Cross Validation %d: ####'% count_CV)\n",
    "    count_CV += 1\n",
    "    print('NumofIns Precisely Classified : ',pre_label_num,'\\t',\n",
    "          'NumofIns : ',test_count_num,'\\t',\n",
    "          'Pre_Accuracy : ',pre_label_num/test_count_num,'\\t',)\n",
    "    \n",
    "    test_pre_record.append(pre_label_num/test_count_num)\n",
    "\n",
    "print('mean of NumofIns precisely classified',numpy.mean(test_pre_record))"
   ]
  },
  {
   "cell_type": "code",
   "execution_count": 12,
   "metadata": {
    "scrolled": true
   },
   "outputs": [
    {
     "name": "stdout",
     "output_type": "stream",
     "text": [
      "(380, 100)\n"
     ]
    },
    {
     "name": "stderr",
     "output_type": "stream",
     "text": [
      "/anaconda3/lib/python3.7/site-packages/sklearn/preprocessing/_encoders.py:371: FutureWarning: The handling of integer data will change in version 0.22. Currently, the categories are determined based on the range [0, max(values)], while in the future they will be determined based on the unique values.\n",
      "If you want the future behaviour and silence this warning, you can specify \"categories='auto'\".\n",
      "In case you used a LabelEncoder before this OneHotEncoder to convert the categories to integers, then you can now use the OneHotEncoder directly.\n",
      "  warnings.warn(msg, FutureWarning)\n"
     ]
    }
   ],
   "source": [
    "# 调用one-hot编码。\n",
    "grd_enc = OneHotEncoder()\n",
    "grd.fit(raw_feature_normalized, raw_label)\n",
    "m = grd.apply(raw_feature_normalized)#[:, :, 0]#使用所有特征训练出的树，得到的是每条数据在每个树中的位置\n",
    "print(m.shape)\n",
    "# fit one-hot编码器\n",
    "grd_enc.fit(m)\n",
    "n = grd_enc.transform(m).toarray()\n",
    "\n",
    "X_train_lr=np.append(raw_feature_normalized, n, axis=1)\n",
    "\n",
    "accuracy_label_dim = accuracy_label[:, np.newaxis]\n",
    "X_train_lr = np.append(X_train_lr, accuracy_label_dim, axis=1)\n",
    "\n",
    "data_df = pd.DataFrame(X_train_lr)\n",
    "data_df.to_csv(\"train_GBDT.csv\", header = None, index = None)"
   ]
  },
  {
   "cell_type": "code",
   "execution_count": 13,
   "metadata": {},
   "outputs": [
    {
     "data": {
      "text/plain": [
       "array([[ 1.12115264, -0.50296946, -1.64316767, ...,  0.        ,\n",
       "         0.        ,  0.        ],\n",
       "       [ 1.12115264, -0.50296946, -1.46059349, ...,  0.        ,\n",
       "         0.        ,  0.        ],\n",
       "       [ 1.12115264, -0.50296946, -1.2780193 , ...,  0.        ,\n",
       "         0.        ,  0.        ],\n",
       "       ...,\n",
       "       [-1.56961369,  0.23824869,  1.2780193 , ...,  0.        ,\n",
       "         0.        ,  1.        ],\n",
       "       [-1.56961369,  0.23824869,  1.46059349, ...,  0.        ,\n",
       "         0.        ,  1.        ],\n",
       "       [-1.56961369,  0.23824869,  1.64316767, ...,  0.        ,\n",
       "         0.        ,  1.        ]])"
      ]
     },
     "execution_count": 13,
     "metadata": {},
     "output_type": "execute_result"
    }
   ],
   "source": [
    "X_train_lr"
   ]
  },
  {
   "cell_type": "code",
   "execution_count": 16,
   "metadata": {},
   "outputs": [],
   "source": [
    "lr = LogisticRegression(solver='newton-cg', multi_class='multinomial', C=4, tol=1e-6, max_iter=20)"
   ]
  },
  {
   "cell_type": "code",
   "execution_count": 24,
   "metadata": {},
   "outputs": [
    {
     "name": "stdout",
     "output_type": "stream",
     "text": [
      "[0 1 0 0 0 1 1 1 1 0 1 1 1 1 1 1 0 1 1 1 1 1 0 1 0 1 1 1 1 1 1 1 1 1 1 1 1\n",
      " 1 1]\n",
      "[0 1 0 0 0 1 1 1 1 0 1 1 1 1 1 1 0 1 1 1 1 1 0 1 0 1 1 1 1 1 1 1 1 1 1 1 1\n",
      " 1 1]\n",
      "#### In Cross Validation 0: ####\n",
      "NumofIns Precisely Classified :  39 \t NumofIns :  39 \t Pre_Accuracy :  1.0 \t\n",
      "[0 0 1 1 1 0 1 1 1 1 0 0 1 1 1 1 0 1 0 1 1 1 1 1 0 1 1 1 1 1 1 1 1 1 1 1 1\n",
      " 1 1]\n",
      "[0 0 1 1 1 0 1 1 1 1 0 0 1 1 1 1 0 1 0 1 1 1 1 1 0 1 1 1 1 1 1 1 1 1 1 1 1\n",
      " 1 1]\n",
      "#### In Cross Validation 1: ####\n",
      "NumofIns Precisely Classified :  39 \t NumofIns :  39 \t Pre_Accuracy :  1.0 \t\n",
      "[0 0 0 0 1 1 1 1 1 1 1 1 1 1 1 1 0 1 1 1 1 1 1 1 1 1 1 1 0 0 1 1 1 0 1 1 1\n",
      " 1]\n",
      "[0 0 0 0 1 1 1 1 1 1 1 1 1 1 1 1 0 1 1 1 1 1 1 1 1 1 1 1 0 0 1 1 1 0 1 1 1\n",
      " 1]\n",
      "#### In Cross Validation 2: ####\n",
      "NumofIns Precisely Classified :  38 \t NumofIns :  38 \t Pre_Accuracy :  1.0 \t\n",
      "[0 1 1 1 0 1 1 1 0 1 0 1 1 1 1 1 1 0 1 0 0 1 1 1 1 1 1 0 1 1 1 1 1 1 1 1 1\n",
      " 1]\n",
      "[0 1 1 1 0 1 1 1 0 1 0 1 1 1 1 1 1 0 1 0 0 1 1 1 1 1 1 0 1 1 1 1 1 1 1 1 1\n",
      " 1]\n",
      "#### In Cross Validation 3: ####\n",
      "NumofIns Precisely Classified :  38 \t NumofIns :  38 \t Pre_Accuracy :  1.0 \t\n",
      "[0 1 0 1 1 0 0 1 1 1 0 1 1 1 1 1 1 1 1 1 1 0 1 1 1 1 1 1 0 0 1 1 1 1 1 1 1\n",
      " 1]\n",
      "[0 1 0 1 1 0 0 1 1 1 0 1 1 1 1 1 1 1 1 1 1 0 1 1 1 1 1 1 0 0 1 1 1 1 1 1 1\n",
      " 1]\n",
      "#### In Cross Validation 4: ####\n",
      "NumofIns Precisely Classified :  38 \t NumofIns :  38 \t Pre_Accuracy :  1.0 \t\n"
     ]
    },
    {
     "name": "stderr",
     "output_type": "stream",
     "text": [
      "/anaconda3/lib/python3.7/site-packages/sklearn/utils/optimize.py:203: ConvergenceWarning: newton-cg failed to converge. Increase the number of iterations.\n",
      "  \"number of iterations.\", ConvergenceWarning)\n"
     ]
    },
    {
     "name": "stdout",
     "output_type": "stream",
     "text": [
      "[0 0 1 1 1 1 1 1 0 1 1 1 1 1 1 1 0 0 0 1 1 1 1 1 1 1 1 1 1 1 0 1 1 0 1 1 1\n",
      " 1]\n",
      "[0 0 1 1 1 1 1 1 0 1 1 1 1 1 1 1 0 0 0 1 1 1 1 1 1 1 1 1 1 1 0 1 1 0 1 1 1\n",
      " 1]\n",
      "#### In Cross Validation 5: ####\n",
      "NumofIns Precisely Classified :  38 \t NumofIns :  38 \t Pre_Accuracy :  1.0 \t\n",
      "[0 0 1 1 1 1 0 1 0 1 1 1 1 1 1 1 1 1 0 1 1 1 1 0 1 1 1 1 1 1 0 1 1 1 0 1 1\n",
      " 1]\n",
      "[0 0 1 1 1 1 0 1 0 1 1 1 1 1 1 1 1 1 0 1 1 1 1 0 1 1 1 1 1 1 0 1 1 1 0 1 1\n",
      " 1]\n",
      "#### In Cross Validation 6: ####\n",
      "NumofIns Precisely Classified :  38 \t NumofIns :  38 \t Pre_Accuracy :  1.0 \t\n",
      "[0 0 0 0 0 1 1 1 1 1 1 1 1 1 1 1 1 1 1 1 1 1 1 1 1 1 0 0 1 1 1 1 1 0 1 1 1\n",
      " 1]\n",
      "[0 0 0 0 0 1 1 1 1 1 1 1 1 1 1 1 1 1 1 1 1 1 1 1 1 1 0 0 1 1 1 1 1 0 1 1 1\n",
      " 1]\n",
      "#### In Cross Validation 7: ####\n",
      "NumofIns Precisely Classified :  38 \t NumofIns :  38 \t Pre_Accuracy :  1.0 \t\n",
      "[0 0 1 1 1 1 1 1 1 0 1 0 0 1 1 1 0 1 1 1 1 1 1 1 1 1 1 1 0 1 1 1 1 1 1 1 1]\n",
      "[0 0 1 1 1 1 1 1 1 0 1 0 0 1 1 1 0 1 1 1 1 1 1 1 1 1 1 1 0 1 1 1 1 1 1 1 1]\n",
      "#### In Cross Validation 8: ####\n",
      "NumofIns Precisely Classified :  37 \t NumofIns :  37 \t Pre_Accuracy :  1.0 \t\n",
      "[1 0 1 0 0 1 1 1 1 1 1 1 1 1 1 1 1 0 0 1 1 1 1 1 1 1 1 1 1 1 1 0 0 1 1 1 1]\n",
      "[1 0 1 0 0 1 1 1 1 1 1 1 1 1 1 1 1 0 0 1 1 1 1 1 1 1 1 1 1 1 1 0 0 1 1 1 1]\n",
      "#### In Cross Validation 9: ####\n",
      "NumofIns Precisely Classified :  37 \t NumofIns :  37 \t Pre_Accuracy :  1.0 \t\n",
      "mean of NumofIns precisely classified 1.0\n"
     ]
    }
   ],
   "source": [
    "count_CV = 0\n",
    "test_acc_record = []\n",
    "test_pre_record = []\n",
    "\n",
    "for train_index,test_index in kfold.split(X_train_lr, accuracy_label):\n",
    "    lr.fit(X_train_lr[train_index], accuracy_label[train_index])\n",
    "    pred_smile_label = lr.predict(X_train_lr[test_index])\n",
    "    real_label = accuracy_label[test_index]\n",
    "    \n",
    "    test_count_num = 0\n",
    "    real_label_index = 0\n",
    "    pre_label_num = 0\n",
    "    \n",
    "    print(pred_smile_label)\n",
    "    print(real_label)\n",
    "    \n",
    "    for label in pred_smile_label:\n",
    "        if label == real_label[real_label_index]:\n",
    "            pre_label_num += 1\n",
    "        real_label_index += 1\n",
    "        test_count_num += 1\n",
    "    \n",
    "    print('#### In Cross Validation %d: ####'% count_CV)\n",
    "    count_CV += 1\n",
    "    print('NumofIns Precisely Classified : ',pre_label_num,'\\t',\n",
    "          'NumofIns : ',test_count_num,'\\t',\n",
    "          'Pre_Accuracy : ',pre_label_num/test_count_num,'\\t',)\n",
    "    \n",
    "    test_pre_record.append(pre_label_num/test_count_num)\n",
    "\n",
    "print('mean of NumofIns precisely classified',numpy.mean(test_pre_record))"
   ]
  },
  {
   "cell_type": "code",
   "execution_count": 22,
   "metadata": {},
   "outputs": [
    {
     "data": {
      "text/plain": [
       "array([[ 1.12115264, -0.50296946, -1.64316767, ...,  0.        ,\n",
       "         0.        ,  0.        ],\n",
       "       [ 1.12115264, -0.50296946, -1.46059349, ...,  0.        ,\n",
       "         0.        ,  0.        ],\n",
       "       [ 1.12115264, -0.50296946, -1.2780193 , ...,  0.        ,\n",
       "         0.        ,  0.        ],\n",
       "       ...,\n",
       "       [-1.56961369,  0.23824869,  1.2780193 , ...,  0.        ,\n",
       "         0.        ,  1.        ],\n",
       "       [-1.56961369,  0.23824869,  1.46059349, ...,  0.        ,\n",
       "         0.        ,  1.        ],\n",
       "       [-1.56961369,  0.23824869,  1.64316767, ...,  0.        ,\n",
       "         0.        ,  1.        ]])"
      ]
     },
     "execution_count": 22,
     "metadata": {},
     "output_type": "execute_result"
    }
   ],
   "source": [
    "X_train_lr"
   ]
  },
  {
   "cell_type": "code",
   "execution_count": 26,
   "metadata": {},
   "outputs": [],
   "source": [
    "SVM = SVC(kernel='rbf',decision_function_shape='ovo',C=20,shrinking =False,tol =1e-6)"
   ]
  },
  {
   "cell_type": "code",
   "execution_count": 27,
   "metadata": {},
   "outputs": [
    {
     "name": "stderr",
     "output_type": "stream",
     "text": [
      "/anaconda3/lib/python3.7/site-packages/sklearn/svm/base.py:196: FutureWarning: The default value of gamma will change from 'auto' to 'scale' in version 0.22 to account better for unscaled features. Set gamma explicitly to 'auto' or 'scale' to avoid this warning.\n",
      "  \"avoid this warning.\", FutureWarning)\n",
      "/anaconda3/lib/python3.7/site-packages/sklearn/svm/base.py:196: FutureWarning: The default value of gamma will change from 'auto' to 'scale' in version 0.22 to account better for unscaled features. Set gamma explicitly to 'auto' or 'scale' to avoid this warning.\n",
      "  \"avoid this warning.\", FutureWarning)\n",
      "/anaconda3/lib/python3.7/site-packages/sklearn/svm/base.py:196: FutureWarning: The default value of gamma will change from 'auto' to 'scale' in version 0.22 to account better for unscaled features. Set gamma explicitly to 'auto' or 'scale' to avoid this warning.\n",
      "  \"avoid this warning.\", FutureWarning)\n",
      "/anaconda3/lib/python3.7/site-packages/sklearn/svm/base.py:196: FutureWarning: The default value of gamma will change from 'auto' to 'scale' in version 0.22 to account better for unscaled features. Set gamma explicitly to 'auto' or 'scale' to avoid this warning.\n",
      "  \"avoid this warning.\", FutureWarning)\n"
     ]
    },
    {
     "name": "stdout",
     "output_type": "stream",
     "text": [
      "[0 1 0 0 0 1 1 1 1 0 1 1 1 1 1 1 0 1 1 1 1 1 0 1 0 1 1 1 1 1 1 1 1 1 1 1 1\n",
      " 1 1]\n",
      "[0 1 0 0 0 1 1 1 1 0 1 1 1 1 1 1 0 1 1 1 1 1 0 1 0 1 1 1 1 1 1 1 1 1 1 1 1\n",
      " 1 1]\n",
      "#### In Cross Validation 0: ####\n",
      "NumofIns Precisely Classified :  39 \t NumofIns :  39 \t Pre_Accuracy :  1.0 \t\n",
      "[0 0 1 1 1 0 1 1 1 1 0 0 1 1 1 1 0 1 0 1 1 1 1 1 0 1 1 1 1 1 1 1 1 1 1 1 1\n",
      " 1 1]\n",
      "[0 0 1 1 1 0 1 1 1 1 0 0 1 1 1 1 0 1 0 1 1 1 1 1 0 1 1 1 1 1 1 1 1 1 1 1 1\n",
      " 1 1]\n",
      "#### In Cross Validation 1: ####\n",
      "NumofIns Precisely Classified :  39 \t NumofIns :  39 \t Pre_Accuracy :  1.0 \t\n",
      "[0 0 0 0 1 1 1 1 1 1 1 1 1 1 1 1 0 1 1 1 1 1 1 1 1 1 1 1 0 0 1 1 1 0 1 1 1\n",
      " 1]\n",
      "[0 0 0 0 1 1 1 1 1 1 1 1 1 1 1 1 0 1 1 1 1 1 1 1 1 1 1 1 0 0 1 1 1 0 1 1 1\n",
      " 1]\n",
      "#### In Cross Validation 2: ####\n",
      "NumofIns Precisely Classified :  38 \t NumofIns :  38 \t Pre_Accuracy :  1.0 \t\n",
      "[0 1 1 1 0 1 1 1 0 1 0 1 1 1 1 1 1 0 1 0 0 1 1 1 1 1 1 0 1 1 1 1 1 1 1 1 1\n",
      " 1]\n",
      "[0 1 1 1 0 1 1 1 0 1 0 1 1 1 1 1 1 0 1 0 0 1 1 1 1 1 1 0 1 1 1 1 1 1 1 1 1\n",
      " 1]\n",
      "#### In Cross Validation 3: ####\n",
      "NumofIns Precisely Classified :  38 \t NumofIns :  38 \t Pre_Accuracy :  1.0 \t\n"
     ]
    },
    {
     "name": "stderr",
     "output_type": "stream",
     "text": [
      "/anaconda3/lib/python3.7/site-packages/sklearn/svm/base.py:196: FutureWarning: The default value of gamma will change from 'auto' to 'scale' in version 0.22 to account better for unscaled features. Set gamma explicitly to 'auto' or 'scale' to avoid this warning.\n",
      "  \"avoid this warning.\", FutureWarning)\n",
      "/anaconda3/lib/python3.7/site-packages/sklearn/svm/base.py:196: FutureWarning: The default value of gamma will change from 'auto' to 'scale' in version 0.22 to account better for unscaled features. Set gamma explicitly to 'auto' or 'scale' to avoid this warning.\n",
      "  \"avoid this warning.\", FutureWarning)\n",
      "/anaconda3/lib/python3.7/site-packages/sklearn/svm/base.py:196: FutureWarning: The default value of gamma will change from 'auto' to 'scale' in version 0.22 to account better for unscaled features. Set gamma explicitly to 'auto' or 'scale' to avoid this warning.\n",
      "  \"avoid this warning.\", FutureWarning)\n",
      "/anaconda3/lib/python3.7/site-packages/sklearn/svm/base.py:196: FutureWarning: The default value of gamma will change from 'auto' to 'scale' in version 0.22 to account better for unscaled features. Set gamma explicitly to 'auto' or 'scale' to avoid this warning.\n",
      "  \"avoid this warning.\", FutureWarning)\n"
     ]
    },
    {
     "name": "stdout",
     "output_type": "stream",
     "text": [
      "[0 1 0 1 1 0 0 1 1 1 0 1 1 1 1 1 1 1 1 1 1 0 1 1 1 1 1 1 0 0 1 1 1 1 1 1 1\n",
      " 1]\n",
      "[0 1 0 1 1 0 0 1 1 1 0 1 1 1 1 1 1 1 1 1 1 0 1 1 1 1 1 1 0 0 1 1 1 1 1 1 1\n",
      " 1]\n",
      "#### In Cross Validation 4: ####\n",
      "NumofIns Precisely Classified :  38 \t NumofIns :  38 \t Pre_Accuracy :  1.0 \t\n",
      "[0 0 1 1 1 1 1 1 0 1 1 1 1 1 1 1 0 0 0 1 1 1 1 1 1 1 1 1 1 1 0 1 1 0 1 1 1\n",
      " 1]\n",
      "[0 0 1 1 1 1 1 1 0 1 1 1 1 1 1 1 0 0 0 1 1 1 1 1 1 1 1 1 1 1 0 1 1 0 1 1 1\n",
      " 1]\n",
      "#### In Cross Validation 5: ####\n",
      "NumofIns Precisely Classified :  38 \t NumofIns :  38 \t Pre_Accuracy :  1.0 \t\n",
      "[0 0 1 1 1 1 0 1 0 1 1 1 1 1 1 1 1 1 0 1 1 1 1 0 1 1 1 1 1 1 0 1 1 1 0 1 1\n",
      " 1]\n",
      "[0 0 1 1 1 1 0 1 0 1 1 1 1 1 1 1 1 1 0 1 1 1 1 0 1 1 1 1 1 1 0 1 1 1 0 1 1\n",
      " 1]\n",
      "#### In Cross Validation 6: ####\n",
      "NumofIns Precisely Classified :  38 \t NumofIns :  38 \t Pre_Accuracy :  1.0 \t\n",
      "[0 0 0 0 0 1 1 1 1 1 1 1 1 1 1 1 1 1 1 1 1 1 1 1 1 1 0 0 1 1 1 1 1 0 1 1 1\n",
      " 1]\n",
      "[0 0 0 0 0 1 1 1 1 1 1 1 1 1 1 1 1 1 1 1 1 1 1 1 1 1 0 0 1 1 1 1 1 0 1 1 1\n",
      " 1]\n",
      "#### In Cross Validation 7: ####\n",
      "NumofIns Precisely Classified :  38 \t NumofIns :  38 \t Pre_Accuracy :  1.0 \t\n",
      "[0 0 1 1 1 1 1 1 1 0 1 0 0 1 1 1 0 1 1 1 1 1 1 1 1 1 1 1 0 1 1 1 1 1 1 1 1]\n",
      "[0 0 1 1 1 1 1 1 1 0 1 0 0 1 1 1 0 1 1 1 1 1 1 1 1 1 1 1 0 1 1 1 1 1 1 1 1]\n",
      "#### In Cross Validation 8: ####\n",
      "NumofIns Precisely Classified :  37 \t NumofIns :  37 \t Pre_Accuracy :  1.0 \t\n",
      "[1 0 1 0 0 1 1 1 1 1 1 1 1 1 1 1 1 0 0 1 1 1 1 1 1 1 1 1 1 1 1 0 0 1 1 1 1]\n",
      "[1 0 1 0 0 1 1 1 1 1 1 1 1 1 1 1 1 0 0 1 1 1 1 1 1 1 1 1 1 1 1 0 0 1 1 1 1]\n",
      "#### In Cross Validation 9: ####\n",
      "NumofIns Precisely Classified :  37 \t NumofIns :  37 \t Pre_Accuracy :  1.0 \t\n",
      "mean of NumofIns precisely classified 1.0\n"
     ]
    },
    {
     "name": "stderr",
     "output_type": "stream",
     "text": [
      "/anaconda3/lib/python3.7/site-packages/sklearn/svm/base.py:196: FutureWarning: The default value of gamma will change from 'auto' to 'scale' in version 0.22 to account better for unscaled features. Set gamma explicitly to 'auto' or 'scale' to avoid this warning.\n",
      "  \"avoid this warning.\", FutureWarning)\n",
      "/anaconda3/lib/python3.7/site-packages/sklearn/svm/base.py:196: FutureWarning: The default value of gamma will change from 'auto' to 'scale' in version 0.22 to account better for unscaled features. Set gamma explicitly to 'auto' or 'scale' to avoid this warning.\n",
      "  \"avoid this warning.\", FutureWarning)\n"
     ]
    }
   ],
   "source": [
    "count_CV = 0\n",
    "test_acc_record = []\n",
    "test_pre_record = []\n",
    "\n",
    "for train_index,test_index in kfold.split(X_train_lr, accuracy_label):\n",
    "    SVM.fit(X_train_lr[train_index], accuracy_label[train_index])\n",
    "    pred_smile_label = SVM.predict(X_train_lr[test_index])\n",
    "    real_label = accuracy_label[test_index]\n",
    "    \n",
    "    test_count_num = 0\n",
    "    real_label_index = 0\n",
    "    pre_label_num = 0\n",
    "    \n",
    "    print(pred_smile_label)\n",
    "    print(real_label)\n",
    "    \n",
    "    for label in pred_smile_label:\n",
    "        if label == real_label[real_label_index]:\n",
    "            pre_label_num += 1\n",
    "        real_label_index += 1\n",
    "        test_count_num += 1\n",
    "    \n",
    "    print('#### In Cross Validation %d: ####'% count_CV)\n",
    "    count_CV += 1\n",
    "    print('NumofIns Precisely Classified : ',pre_label_num,'\\t',\n",
    "          'NumofIns : ',test_count_num,'\\t',\n",
    "          'Pre_Accuracy : ',pre_label_num/test_count_num,'\\t',)\n",
    "    \n",
    "    test_pre_record.append(pre_label_num/test_count_num)\n",
    "\n",
    "print('mean of NumofIns precisely classified',numpy.mean(test_pre_record))"
   ]
  },
  {
   "cell_type": "code",
   "execution_count": null,
   "metadata": {},
   "outputs": [],
   "source": []
  }
 ],
 "metadata": {
  "kernelspec": {
   "display_name": "Python 3",
   "language": "python",
   "name": "python3"
  },
  "language_info": {
   "codemirror_mode": {
    "name": "ipython",
    "version": 3
   },
   "file_extension": ".py",
   "mimetype": "text/x-python",
   "name": "python",
   "nbconvert_exporter": "python",
   "pygments_lexer": "ipython3",
   "version": "3.7.3"
  }
 },
 "nbformat": 4,
 "nbformat_minor": 2
}
