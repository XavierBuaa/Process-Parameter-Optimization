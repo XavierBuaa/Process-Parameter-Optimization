{
 "cells": [
  {
   "cell_type": "code",
   "execution_count": 29,
   "metadata": {},
   "outputs": [],
   "source": [
    "import pandas as pd\n",
    "import numpy as np\n",
    "from sklearn.linear_model import LogisticRegression\n",
    "from sklearn.svm import SVC\n",
    "from xgboost.sklearn import XGBRegressor\n",
    "from xgboost.sklearn import XGBClassifier\n",
    "from sklearn.ensemble import GradientBoostingRegressor\n",
    "from sklearn.model_selection import StratifiedKFold\n",
    "from sklearn.preprocessing import OneHotEncoder\n",
    "import numpy\n",
    "import xlrd"
   ]
  },
  {
   "cell_type": "code",
   "execution_count": 30,
   "metadata": {},
   "outputs": [],
   "source": [
    "raw_df = pd.read_csv(\"data.csv\", header = None)"
   ]
  },
  {
   "cell_type": "code",
   "execution_count": 31,
   "metadata": {},
   "outputs": [],
   "source": [
    "raw_df.rename(columns = {0:'Ae', 1:'Ap', 2:'Rs', 3:'Fz', 4:'label'}, inplace = True)"
   ]
  },
  {
   "cell_type": "code",
   "execution_count": 32,
   "metadata": {},
   "outputs": [],
   "source": [
    "raw_matrix = raw_df.as_matrix()\n",
    "raw_feature = raw_matrix[:, 0:-2]\n",
    "raw_label = raw_matrix[:, -1]\n",
    "raw_feature_mean = raw_feature.mean(axis = 0)\n",
    "raw_feature_std = raw_feature.std(axis = 0)\n",
    "raw_feature_normalized = (raw_feature - raw_feature_mean)/raw_feature_std\n",
    "np.random.shuffle(raw_feature_normalized)\n",
    "kfold = StratifiedKFold(n_splits=10, shuffle=True, random_state=7)"
   ]
  },
  {
   "cell_type": "code",
   "execution_count": 33,
   "metadata": {},
   "outputs": [
    {
     "data": {
      "text/plain": [
       "array([[ 1.12115264, -0.60885777,  0.36514837],\n",
       "       [ 0.52320456, -0.71474607, -0.73029674],\n",
       "       [ 1.12115264, -0.92652269,  1.64316767],\n",
       "       ...,\n",
       "       [-0.07474351, -0.18530454, -1.2780193 ],\n",
       "       [ 0.52320456, -0.39708115,  0.36514837],\n",
       "       [ 0.52320456, -0.71474607, -1.46059349]])"
      ]
     },
     "execution_count": 33,
     "metadata": {},
     "output_type": "execute_result"
    }
   ],
   "source": [
    "raw_feature_normalized"
   ]
  },
  {
   "cell_type": "code",
   "execution_count": 34,
   "metadata": {},
   "outputs": [],
   "source": [
    "lr = LogisticRegression(solver='newton-cg', multi_class='multinomial', C=4, tol=1e-6, max_iter=20)"
   ]
  },
  {
   "cell_type": "code",
   "execution_count": 35,
   "metadata": {},
   "outputs": [
    {
     "name": "stdout",
     "output_type": "stream",
     "text": [
      "#### In Cross Validation 0: ####\n",
      "NumofIns Precisely Classified :  19 \t NumofIns Accurately Classified :  3 \t NumofIns :  40 \t Pre_Accuracy :  0.475 \t Accuracy :  0.55\n",
      "#### In Cross Validation 1: ####\n",
      "NumofIns Precisely Classified :  20 \t NumofIns Accurately Classified :  3 \t NumofIns :  40 \t Pre_Accuracy :  0.5 \t Accuracy :  0.575\n",
      "#### In Cross Validation 2: ####\n",
      "NumofIns Precisely Classified :  20 \t NumofIns Accurately Classified :  2 \t NumofIns :  38 \t Pre_Accuracy :  0.5263157894736842 \t Accuracy :  0.5789473684210527\n",
      "#### In Cross Validation 3: ####\n",
      "NumofIns Precisely Classified :  20 \t NumofIns Accurately Classified :  2 \t NumofIns :  38 \t Pre_Accuracy :  0.5263157894736842 \t Accuracy :  0.5789473684210527\n",
      "#### In Cross Validation 4: ####\n",
      "NumofIns Precisely Classified :  19 \t NumofIns Accurately Classified :  2 \t NumofIns :  38 \t Pre_Accuracy :  0.5 \t Accuracy :  0.5526315789473685\n",
      "#### In Cross Validation 5: ####\n",
      "NumofIns Precisely Classified :  20 \t NumofIns Accurately Classified :  2 \t NumofIns :  38 \t Pre_Accuracy :  0.5263157894736842 \t Accuracy :  0.5789473684210527\n",
      "#### In Cross Validation 6: ####\n",
      "NumofIns Precisely Classified :  19 \t NumofIns Accurately Classified :  2 \t NumofIns :  37 \t Pre_Accuracy :  0.5135135135135135 \t Accuracy :  0.5675675675675675\n",
      "#### In Cross Validation 7: ####\n",
      "NumofIns Precisely Classified :  19 \t NumofIns Accurately Classified :  2 \t NumofIns :  37 \t Pre_Accuracy :  0.5135135135135135 \t Accuracy :  0.5675675675675675\n",
      "#### In Cross Validation 8: ####\n",
      "NumofIns Precisely Classified :  19 \t NumofIns Accurately Classified :  2 \t NumofIns :  37 \t Pre_Accuracy :  0.5135135135135135 \t Accuracy :  0.5675675675675675\n",
      "#### In Cross Validation 9: ####\n",
      "NumofIns Precisely Classified :  19 \t NumofIns Accurately Classified :  2 \t NumofIns :  37 \t Pre_Accuracy :  0.5135135135135135 \t Accuracy :  0.5675675675675675\n",
      "mean of NumofIns precisely classified 0.5108001422475106\n",
      "mean of NumofIns accurately classified 0.5684743954480797\n"
     ]
    }
   ],
   "source": [
    "count_CV = 0\n",
    "test_acc_record = []\n",
    "test_pre_record = []\n",
    "\n",
    "for train_index,test_index in kfold.split(raw_feature_normalized, raw_label):\n",
    "    lr.fit(raw_feature_normalized[train_index], raw_label[train_index])\n",
    "    pred_smile_label = lr.predict(raw_feature_normalized[test_index])\n",
    "    real_label = raw_label[test_index]\n",
    "    \n",
    "    test_count_num = 0\n",
    "    real_label_index = 0\n",
    "    acc_label_num = 0\n",
    "    pre_label_num = 0\n",
    "    \n",
    "    for label in pred_smile_label:\n",
    "        if label == real_label[real_label_index]:\n",
    "            pre_label_num += 1\n",
    "        elif (label - real_label[real_label_index])*(label - real_label[real_label_index]) == 1:\n",
    "            acc_label_num += 1\n",
    "        real_label_index += 1\n",
    "        test_count_num += 1\n",
    "    \n",
    "    print('#### In Cross Validation %d: ####'% count_CV)\n",
    "    count_CV += 1\n",
    "    print('NumofIns Precisely Classified : ',pre_label_num,'\\t',\n",
    "          'NumofIns Accurately Classified : ',acc_label_num,'\\t',\n",
    "          'NumofIns : ',test_count_num,'\\t',\n",
    "          'Pre_Accuracy : ',pre_label_num/test_count_num,'\\t',\n",
    "          'Accuracy : ',(pre_label_num + acc_label_num)/test_count_num)\n",
    "    \n",
    "    test_pre_record.append(pre_label_num/test_count_num)\n",
    "    test_acc_record.append((pre_label_num + acc_label_num)/test_count_num)\n",
    "\n",
    "print('mean of NumofIns precisely classified',numpy.mean(test_pre_record))\n",
    "print('mean of NumofIns accurately classified',numpy.mean(test_acc_record))"
   ]
  },
  {
   "cell_type": "code",
   "execution_count": 36,
   "metadata": {},
   "outputs": [],
   "source": [
    "SVM = SVC(kernel='rbf',decision_function_shape='ovo',C=20,shrinking =False,tol =1e-6)"
   ]
  },
  {
   "cell_type": "code",
   "execution_count": 37,
   "metadata": {},
   "outputs": [
    {
     "name": "stdout",
     "output_type": "stream",
     "text": [
      "#### In Cross Validation 0: ####\n",
      "NumofIns Precisely Classified :  18 \t NumofIns Accurately Classified :  0 \t NumofIns :  40 \t Pre_Accuracy :  0.45 \t Accuracy :  0.45\n",
      "#### In Cross Validation 1: ####\n",
      "NumofIns Precisely Classified :  19 \t NumofIns Accurately Classified :  0 \t NumofIns :  40 \t Pre_Accuracy :  0.475 \t Accuracy :  0.475\n",
      "#### In Cross Validation 2: ####\n",
      "NumofIns Precisely Classified :  19 \t NumofIns Accurately Classified :  0 \t NumofIns :  38 \t Pre_Accuracy :  0.5 \t Accuracy :  0.5\n",
      "#### In Cross Validation 3: ####\n",
      "NumofIns Precisely Classified :  19 \t NumofIns Accurately Classified :  0 \t NumofIns :  38 \t Pre_Accuracy :  0.5 \t Accuracy :  0.5\n",
      "#### In Cross Validation 4: ####\n",
      "NumofIns Precisely Classified :  17 \t NumofIns Accurately Classified :  0 \t NumofIns :  38 \t Pre_Accuracy :  0.4473684210526316 \t Accuracy :  0.4473684210526316\n",
      "#### In Cross Validation 5: ####\n",
      "NumofIns Precisely Classified :  19 \t NumofIns Accurately Classified :  0 \t NumofIns :  38 \t Pre_Accuracy :  0.5 \t Accuracy :  0.5\n",
      "#### In Cross Validation 6: ####\n",
      "NumofIns Precisely Classified :  19 \t NumofIns Accurately Classified :  0 \t NumofIns :  37 \t Pre_Accuracy :  0.5135135135135135 \t Accuracy :  0.5135135135135135\n",
      "#### In Cross Validation 7: ####\n",
      "NumofIns Precisely Classified :  19 \t NumofIns Accurately Classified :  0 \t NumofIns :  37 \t Pre_Accuracy :  0.5135135135135135 \t Accuracy :  0.5135135135135135\n",
      "#### In Cross Validation 8: ####\n",
      "NumofIns Precisely Classified :  19 \t NumofIns Accurately Classified :  0 \t NumofIns :  37 \t Pre_Accuracy :  0.5135135135135135 \t Accuracy :  0.5135135135135135\n",
      "#### In Cross Validation 9: ####\n",
      "NumofIns Precisely Classified :  18 \t NumofIns Accurately Classified :  0 \t NumofIns :  37 \t Pre_Accuracy :  0.4864864864864865 \t Accuracy :  0.4864864864864865\n",
      "mean of NumofIns precisely classified 0.48993954480796587\n",
      "mean of NumofIns accurately classified 0.48993954480796587\n"
     ]
    }
   ],
   "source": [
    "count_CV = 0\n",
    "test_acc_record = []\n",
    "test_pre_record = []\n",
    "\n",
    "for train_index,test_index in kfold.split(raw_feature_normalized, raw_label):\n",
    "    SVM.fit(raw_feature_normalized[train_index], raw_label[train_index])\n",
    "    pred_smile_label = SVM.predict(raw_feature_normalized[test_index])\n",
    "    real_label = raw_label[test_index]\n",
    "    \n",
    "    test_count_num = 0\n",
    "    real_label_index = 0\n",
    "    acc_label_num = 0\n",
    "    pre_label_num = 0\n",
    "    \n",
    "    for label in pred_smile_label:\n",
    "        if label == real_label[real_label_index]:\n",
    "            pre_label_num += 1\n",
    "        elif (label - real_label[real_label_index])*(label - real_label[real_label_index]) == 25:\n",
    "            acc_label_num += 1\n",
    "        real_label_index += 1\n",
    "        test_count_num += 1\n",
    "    \n",
    "    print('#### In Cross Validation %d: ####'% count_CV)\n",
    "    count_CV += 1\n",
    "    print('NumofIns Precisely Classified : ',pre_label_num,'\\t',\n",
    "          'NumofIns Accurately Classified : ',acc_label_num,'\\t',\n",
    "          'NumofIns : ',test_count_num,'\\t',\n",
    "          'Pre_Accuracy : ',pre_label_num/test_count_num,'\\t',\n",
    "          'Accuracy : ',(pre_label_num + acc_label_num)/test_count_num)\n",
    "    \n",
    "    test_pre_record.append(pre_label_num/test_count_num)\n",
    "    test_acc_record.append((pre_label_num + acc_label_num)/test_count_num)\n",
    "\n",
    "print('mean of NumofIns precisely classified',numpy.mean(test_pre_record))\n",
    "print('mean of NumofIns accurately classified',numpy.mean(test_acc_record))"
   ]
  },
  {
   "cell_type": "code",
   "execution_count": 38,
   "metadata": {},
   "outputs": [],
   "source": [
    "XGB_R = XGBRegressor(#booster = 'gblinear',\n",
    "                   #objective='multi:softmax',\n",
    "    #num_class=7,#必须要考虑到0的情况。这个数据集里面没有零\n",
    "    n_estimators=200,\n",
    "    max_depth=4,\n",
    "    min_child_weight = 5,\n",
    "    scale_pos_weight = 5,\n",
    "    num_boost_round =5,\n",
    "    max_delta_step=1000,\n",
    "    alpha =2,\n",
    "    eta=1\n",
    "    #colsample_bytree=0.9\n",
    "    #gamma=5,\n",
    "    #process_type='update'\n",
    ")"
   ]
  },
  {
   "cell_type": "code",
   "execution_count": 39,
   "metadata": {},
   "outputs": [
    {
     "name": "stdout",
     "output_type": "stream",
     "text": [
      "#### In Cross Validation 0: ####\n",
      "NumofIns Precisely Classified :  9 \t NumofIns Accurately Classified :  4 \t NumofIns :  40 \t Pre_Accuracy :  0.225 \t Accuracy :  0.325\n",
      "#### In Cross Validation 1: ####\n",
      "NumofIns Precisely Classified :  13 \t NumofIns Accurately Classified :  4 \t NumofIns :  40 \t Pre_Accuracy :  0.325 \t Accuracy :  0.425\n",
      "#### In Cross Validation 2: ####\n",
      "NumofIns Precisely Classified :  17 \t NumofIns Accurately Classified :  2 \t NumofIns :  38 \t Pre_Accuracy :  0.4473684210526316 \t Accuracy :  0.5\n",
      "#### In Cross Validation 3: ####\n",
      "NumofIns Precisely Classified :  11 \t NumofIns Accurately Classified :  4 \t NumofIns :  38 \t Pre_Accuracy :  0.2894736842105263 \t Accuracy :  0.39473684210526316\n",
      "#### In Cross Validation 4: ####\n",
      "NumofIns Precisely Classified :  7 \t NumofIns Accurately Classified :  3 \t NumofIns :  38 \t Pre_Accuracy :  0.18421052631578946 \t Accuracy :  0.2631578947368421\n",
      "#### In Cross Validation 5: ####\n",
      "NumofIns Precisely Classified :  12 \t NumofIns Accurately Classified :  6 \t NumofIns :  38 \t Pre_Accuracy :  0.3157894736842105 \t Accuracy :  0.47368421052631576\n",
      "#### In Cross Validation 6: ####\n",
      "NumofIns Precisely Classified :  12 \t NumofIns Accurately Classified :  3 \t NumofIns :  37 \t Pre_Accuracy :  0.32432432432432434 \t Accuracy :  0.40540540540540543\n",
      "#### In Cross Validation 7: ####\n",
      "NumofIns Precisely Classified :  8 \t NumofIns Accurately Classified :  5 \t NumofIns :  37 \t Pre_Accuracy :  0.21621621621621623 \t Accuracy :  0.35135135135135137\n",
      "#### In Cross Validation 8: ####\n",
      "NumofIns Precisely Classified :  8 \t NumofIns Accurately Classified :  5 \t NumofIns :  37 \t Pre_Accuracy :  0.21621621621621623 \t Accuracy :  0.35135135135135137\n",
      "#### In Cross Validation 9: ####\n",
      "NumofIns Precisely Classified :  16 \t NumofIns Accurately Classified :  2 \t NumofIns :  37 \t Pre_Accuracy :  0.43243243243243246 \t Accuracy :  0.4864864864864865\n",
      "mean of NumofIns precisely classified 0.2976031294452347\n",
      "mean of NumofIns accurately classified 0.39761735419630156\n"
     ]
    }
   ],
   "source": [
    "count_CV = 0\n",
    "test_acc_record = []\n",
    "test_pre_record = []\n",
    "\n",
    "for train_index,test_index in kfold.split(raw_feature_normalized, raw_label):\n",
    "    XGB_R.fit(raw_feature_normalized[train_index], raw_label[train_index])\n",
    "    pred_smile_label = XGB_R.predict(raw_feature_normalized[test_index])\n",
    "    real_label = raw_label[test_index]\n",
    "    \n",
    "    test_count_num = 0\n",
    "    real_label_index = 0\n",
    "    acc_label_num = 0\n",
    "    pre_label_num = 0\n",
    "    \n",
    "    for label in pred_smile_label:\n",
    "        if (label - real_label[real_label_index])*(label - real_label[real_label_index]) <= 0.5:\n",
    "            pre_label_num += 1\n",
    "        elif (label - real_label[real_label_index])*(label - real_label[real_label_index]) <= 1:\n",
    "            acc_label_num += 1\n",
    "        real_label_index += 1\n",
    "        test_count_num += 1\n",
    "    \n",
    "    print('#### In Cross Validation %d: ####'% count_CV)\n",
    "    count_CV += 1\n",
    "    print('NumofIns Precisely Classified : ',pre_label_num,'\\t',\n",
    "          'NumofIns Accurately Classified : ',acc_label_num,'\\t',\n",
    "          'NumofIns : ',test_count_num,'\\t',\n",
    "          'Pre_Accuracy : ',pre_label_num/test_count_num,'\\t',\n",
    "          'Accuracy : ',(pre_label_num + acc_label_num)/test_count_num)\n",
    "    \n",
    "    test_pre_record.append(pre_label_num/test_count_num)\n",
    "    test_acc_record.append((pre_label_num + acc_label_num)/test_count_num)\n",
    "\n",
    "print('mean of NumofIns precisely classified',numpy.mean(test_pre_record))\n",
    "print('mean of NumofIns accurately classified',numpy.mean(test_acc_record))"
   ]
  },
  {
   "cell_type": "code",
   "execution_count": 41,
   "metadata": {},
   "outputs": [],
   "source": [
    "XGB_C = XGBClassifier(\n",
    "    #booster = 'gblinear',\n",
    "    #objective='multi:softmax',\n",
    "    #num_class=7,#必须要考虑到0的情况。这个数据集里面没有零\n",
    "    n_estimators=200,\n",
    "    max_depth=4,\n",
    "    min_child_weight = 5,\n",
    "    scale_pos_weight = 5,\n",
    "    num_boost_round =5,\n",
    "    max_delta_step=1000,\n",
    "    alpha =2,\n",
    "    eta=1\n",
    "    #colsample_bytree=0.9\n",
    "    #gamma=5,\n",
    "    #process_type='update'\n",
    ")"
   ]
  },
  {
   "cell_type": "code",
   "execution_count": 42,
   "metadata": {},
   "outputs": [
    {
     "name": "stderr",
     "output_type": "stream",
     "text": [
      "E:\\Anaconda\\Anaconda\\lib\\site-packages\\sklearn\\preprocessing\\label.py:151: DeprecationWarning: The truth value of an empty array is ambiguous. Returning False, but in future this will result in an error. Use `array.size > 0` to check that an array is not empty.\n",
      "  if diff:\n",
      "E:\\Anaconda\\Anaconda\\lib\\site-packages\\sklearn\\preprocessing\\label.py:151: DeprecationWarning: The truth value of an empty array is ambiguous. Returning False, but in future this will result in an error. Use `array.size > 0` to check that an array is not empty.\n",
      "  if diff:\n"
     ]
    },
    {
     "name": "stdout",
     "output_type": "stream",
     "text": [
      "#### In Cross Validation 0: ####\n",
      "NumofIns Precisely Classified :  16 \t NumofIns Accurately Classified :  0 \t NumofIns :  40 \t Pre_Accuracy :  0.4 \t Accuracy :  0.4\n",
      "#### In Cross Validation 1: ####\n",
      "NumofIns Precisely Classified :  13 \t NumofIns Accurately Classified :  0 \t NumofIns :  40 \t Pre_Accuracy :  0.325 \t Accuracy :  0.325\n"
     ]
    },
    {
     "name": "stderr",
     "output_type": "stream",
     "text": [
      "E:\\Anaconda\\Anaconda\\lib\\site-packages\\sklearn\\preprocessing\\label.py:151: DeprecationWarning: The truth value of an empty array is ambiguous. Returning False, but in future this will result in an error. Use `array.size > 0` to check that an array is not empty.\n",
      "  if diff:\n",
      "E:\\Anaconda\\Anaconda\\lib\\site-packages\\sklearn\\preprocessing\\label.py:151: DeprecationWarning: The truth value of an empty array is ambiguous. Returning False, but in future this will result in an error. Use `array.size > 0` to check that an array is not empty.\n",
      "  if diff:\n"
     ]
    },
    {
     "name": "stdout",
     "output_type": "stream",
     "text": [
      "#### In Cross Validation 2: ####\n",
      "NumofIns Precisely Classified :  18 \t NumofIns Accurately Classified :  0 \t NumofIns :  38 \t Pre_Accuracy :  0.47368421052631576 \t Accuracy :  0.47368421052631576\n",
      "#### In Cross Validation 3: ####\n",
      "NumofIns Precisely Classified :  18 \t NumofIns Accurately Classified :  0 \t NumofIns :  38 \t Pre_Accuracy :  0.47368421052631576 \t Accuracy :  0.47368421052631576\n"
     ]
    },
    {
     "name": "stderr",
     "output_type": "stream",
     "text": [
      "E:\\Anaconda\\Anaconda\\lib\\site-packages\\sklearn\\preprocessing\\label.py:151: DeprecationWarning: The truth value of an empty array is ambiguous. Returning False, but in future this will result in an error. Use `array.size > 0` to check that an array is not empty.\n",
      "  if diff:\n",
      "E:\\Anaconda\\Anaconda\\lib\\site-packages\\sklearn\\preprocessing\\label.py:151: DeprecationWarning: The truth value of an empty array is ambiguous. Returning False, but in future this will result in an error. Use `array.size > 0` to check that an array is not empty.\n",
      "  if diff:\n"
     ]
    },
    {
     "name": "stdout",
     "output_type": "stream",
     "text": [
      "#### In Cross Validation 4: ####\n",
      "NumofIns Precisely Classified :  17 \t NumofIns Accurately Classified :  0 \t NumofIns :  38 \t Pre_Accuracy :  0.4473684210526316 \t Accuracy :  0.4473684210526316\n",
      "#### In Cross Validation 5: ####\n",
      "NumofIns Precisely Classified :  16 \t NumofIns Accurately Classified :  0 \t NumofIns :  38 \t Pre_Accuracy :  0.42105263157894735 \t Accuracy :  0.42105263157894735\n"
     ]
    },
    {
     "name": "stderr",
     "output_type": "stream",
     "text": [
      "E:\\Anaconda\\Anaconda\\lib\\site-packages\\sklearn\\preprocessing\\label.py:151: DeprecationWarning: The truth value of an empty array is ambiguous. Returning False, but in future this will result in an error. Use `array.size > 0` to check that an array is not empty.\n",
      "  if diff:\n",
      "E:\\Anaconda\\Anaconda\\lib\\site-packages\\sklearn\\preprocessing\\label.py:151: DeprecationWarning: The truth value of an empty array is ambiguous. Returning False, but in future this will result in an error. Use `array.size > 0` to check that an array is not empty.\n",
      "  if diff:\n"
     ]
    },
    {
     "name": "stdout",
     "output_type": "stream",
     "text": [
      "#### In Cross Validation 6: ####\n",
      "NumofIns Precisely Classified :  16 \t NumofIns Accurately Classified :  0 \t NumofIns :  37 \t Pre_Accuracy :  0.43243243243243246 \t Accuracy :  0.43243243243243246\n",
      "#### In Cross Validation 7: ####\n",
      "NumofIns Precisely Classified :  15 \t NumofIns Accurately Classified :  0 \t NumofIns :  37 \t Pre_Accuracy :  0.40540540540540543 \t Accuracy :  0.40540540540540543\n",
      "#### In Cross Validation 8: ####\n",
      "NumofIns Precisely Classified :  14 \t NumofIns Accurately Classified :  0 \t NumofIns :  37 \t Pre_Accuracy :  0.3783783783783784 \t Accuracy :  0.3783783783783784\n",
      "#### In Cross Validation 9: ####\n",
      "NumofIns Precisely Classified :  16 \t NumofIns Accurately Classified :  0 \t NumofIns :  37 \t Pre_Accuracy :  0.43243243243243246 \t Accuracy :  0.43243243243243246\n",
      "mean of NumofIns precisely classified 0.4189438122332859\n",
      "mean of NumofIns accurately classified 0.4189438122332859\n"
     ]
    },
    {
     "name": "stderr",
     "output_type": "stream",
     "text": [
      "E:\\Anaconda\\Anaconda\\lib\\site-packages\\sklearn\\preprocessing\\label.py:151: DeprecationWarning: The truth value of an empty array is ambiguous. Returning False, but in future this will result in an error. Use `array.size > 0` to check that an array is not empty.\n",
      "  if diff:\n",
      "E:\\Anaconda\\Anaconda\\lib\\site-packages\\sklearn\\preprocessing\\label.py:151: DeprecationWarning: The truth value of an empty array is ambiguous. Returning False, but in future this will result in an error. Use `array.size > 0` to check that an array is not empty.\n",
      "  if diff:\n"
     ]
    }
   ],
   "source": [
    "count_CV = 0\n",
    "test_acc_record = []\n",
    "test_pre_record = []\n",
    "\n",
    "for train_index,test_index in kfold.split(raw_feature_normalized, raw_label):\n",
    "    XGB_C.fit(raw_feature_normalized[train_index], raw_label[train_index])\n",
    "    pred_smile_label = XGB_C.predict(raw_feature_normalized[test_index])\n",
    "    real_label = raw_label[test_index]\n",
    "    \n",
    "    test_count_num = 0\n",
    "    real_label_index = 0\n",
    "    acc_label_num = 0\n",
    "    pre_label_num = 0\n",
    "    \n",
    "    for label in pred_smile_label:\n",
    "        if label == real_label[real_label_index]:\n",
    "            pre_label_num += 1\n",
    "        elif (label - real_label[real_label_index])*(label - real_label[real_label_index]) == 25:\n",
    "            acc_label_num += 1\n",
    "        real_label_index += 1\n",
    "        test_count_num += 1\n",
    "    \n",
    "    print('#### In Cross Validation %d: ####'% count_CV)\n",
    "    count_CV += 1\n",
    "    print('NumofIns Precisely Classified : ',pre_label_num,'\\t',\n",
    "          'NumofIns Accurately Classified : ',acc_label_num,'\\t',\n",
    "          'NumofIns : ',test_count_num,'\\t',\n",
    "          'Pre_Accuracy : ',pre_label_num/test_count_num,'\\t',\n",
    "          'Accuracy : ',(pre_label_num + acc_label_num)/test_count_num)\n",
    "    \n",
    "    test_pre_record.append(pre_label_num/test_count_num)\n",
    "    test_acc_record.append((pre_label_num + acc_label_num)/test_count_num)\n",
    "\n",
    "print('mean of NumofIns precisely classified',numpy.mean(test_pre_record))\n",
    "print('mean of NumofIns accurately classified',numpy.mean(test_acc_record))"
   ]
  },
  {
   "cell_type": "code",
   "execution_count": 43,
   "metadata": {},
   "outputs": [],
   "source": [
    "GBR = GradientBoostingRegressor(n_estimators=100,learning_rate= 0.01, loss= 'ls',max_depth=3 )"
   ]
  },
  {
   "cell_type": "code",
   "execution_count": 45,
   "metadata": {},
   "outputs": [
    {
     "name": "stdout",
     "output_type": "stream",
     "text": [
      "#### In Cross Validation 0: ####\n",
      "NumofIns Precisely Classified :  5 \t NumofIns Accurately Classified :  1 \t NumofIns :  40 \t Pre_Accuracy :  0.125 \t Accuracy :  0.15\n",
      "#### In Cross Validation 1: ####\n",
      "NumofIns Precisely Classified :  3 \t NumofIns Accurately Classified :  4 \t NumofIns :  40 \t Pre_Accuracy :  0.075 \t Accuracy :  0.175\n",
      "#### In Cross Validation 2: ####\n",
      "NumofIns Precisely Classified :  4 \t NumofIns Accurately Classified :  2 \t NumofIns :  38 \t Pre_Accuracy :  0.10526315789473684 \t Accuracy :  0.15789473684210525\n",
      "#### In Cross Validation 3: ####\n",
      "NumofIns Precisely Classified :  4 \t NumofIns Accurately Classified :  1 \t NumofIns :  38 \t Pre_Accuracy :  0.10526315789473684 \t Accuracy :  0.13157894736842105\n",
      "#### In Cross Validation 4: ####\n",
      "NumofIns Precisely Classified :  3 \t NumofIns Accurately Classified :  2 \t NumofIns :  38 \t Pre_Accuracy :  0.07894736842105263 \t Accuracy :  0.13157894736842105\n",
      "#### In Cross Validation 5: ####\n",
      "NumofIns Precisely Classified :  5 \t NumofIns Accurately Classified :  5 \t NumofIns :  38 \t Pre_Accuracy :  0.13157894736842105 \t Accuracy :  0.2631578947368421\n",
      "#### In Cross Validation 6: ####\n",
      "NumofIns Precisely Classified :  3 \t NumofIns Accurately Classified :  2 \t NumofIns :  37 \t Pre_Accuracy :  0.08108108108108109 \t Accuracy :  0.13513513513513514\n",
      "#### In Cross Validation 7: ####\n",
      "NumofIns Precisely Classified :  3 \t NumofIns Accurately Classified :  1 \t NumofIns :  37 \t Pre_Accuracy :  0.08108108108108109 \t Accuracy :  0.10810810810810811\n",
      "#### In Cross Validation 8: ####\n",
      "NumofIns Precisely Classified :  4 \t NumofIns Accurately Classified :  2 \t NumofIns :  37 \t Pre_Accuracy :  0.10810810810810811 \t Accuracy :  0.16216216216216217\n",
      "#### In Cross Validation 9: ####\n",
      "NumofIns Precisely Classified :  4 \t NumofIns Accurately Classified :  2 \t NumofIns :  37 \t Pre_Accuracy :  0.10810810810810811 \t Accuracy :  0.16216216216216217\n",
      "mean of NumofIns precisely classified 0.09994310099573259\n",
      "mean of NumofIns accurately classified 0.1576778093883357\n"
     ]
    }
   ],
   "source": [
    "count_CV = 0\n",
    "test_acc_record = []\n",
    "test_pre_record = []\n",
    "\n",
    "for train_index,test_index in kfold.split(raw_feature_normalized, raw_label):\n",
    "    GBR.fit(raw_feature_normalized[train_index], raw_label[train_index])\n",
    "    pred_smile_label = GBR.predict(raw_feature_normalized[test_index])\n",
    "    real_label = raw_label[test_index]\n",
    "\n",
    "    test_count_num = 0\n",
    "    real_label_index = 0\n",
    "    acc_label_num = 0\n",
    "    pre_label_num = 0\n",
    "    \n",
    "    for label in pred_smile_label:\n",
    "        if (label - real_label[real_label_index])*(label - real_label[real_label_index]) <= 0.5:\n",
    "            pre_label_num += 1\n",
    "        elif (label - real_label[real_label_index])*(label - real_label[real_label_index]) <= 1:\n",
    "            acc_label_num += 1\n",
    "        real_label_index += 1\n",
    "        test_count_num += 1\n",
    "    \n",
    "    print('#### In Cross Validation %d: ####'% count_CV)\n",
    "    count_CV += 1\n",
    "    print('NumofIns Precisely Classified : ',pre_label_num,'\\t',\n",
    "          'NumofIns Accurately Classified : ',acc_label_num,'\\t',\n",
    "          'NumofIns : ',test_count_num,'\\t',\n",
    "          'Pre_Accuracy : ',pre_label_num/test_count_num,'\\t',\n",
    "          'Accuracy : ',(pre_label_num + acc_label_num)/test_count_num)\n",
    "    \n",
    "    test_pre_record.append(pre_label_num/test_count_num)\n",
    "    test_acc_record.append((pre_label_num + acc_label_num)/test_count_num)\n",
    "\n",
    "print('mean of NumofIns precisely classified',numpy.mean(test_pre_record))\n",
    "print('mean of NumofIns accurately classified',numpy.mean(test_acc_record))"
   ]
  },
  {
   "cell_type": "code",
   "execution_count": null,
   "metadata": {},
   "outputs": [],
   "source": []
  }
 ],
 "metadata": {
  "kernelspec": {
   "display_name": "Python 3",
   "language": "python",
   "name": "python3"
  },
  "language_info": {
   "codemirror_mode": {
    "name": "ipython",
    "version": 3
   },
   "file_extension": ".py",
   "mimetype": "text/x-python",
   "name": "python",
   "nbconvert_exporter": "python",
   "pygments_lexer": "ipython3",
   "version": "3.7.3"
  }
 },
 "nbformat": 4,
 "nbformat_minor": 2
}
