{
 "cells": [
  {
   "cell_type": "code",
   "execution_count": 1,
   "metadata": {},
   "outputs": [],
   "source": [
    "import xlrd\n",
    "import numpy as np\n",
    "import pandas as pd\n",
    "from xgboost.sklearn import XGBRegressor\n",
    "from xgboost.sklearn import XGBClassifier\n",
    "from sklearn.ensemble import GradientBoostingRegressor\n",
    "from sklearn.model_selection import StratifiedKFold\n",
    "from sklearn.preprocessing import OneHotEncoder\n",
    "from sklearn.linear_model import LogisticRegression\n",
    "from sklearn.svm import SVC"
   ]
  },
  {
   "cell_type": "code",
   "execution_count": 2,
   "metadata": {},
   "outputs": [],
   "source": [
    "def re_cate(label):\n",
    "    if label >37.2 and label < 37.6:\n",
    "        return 1\n",
    "    else:\n",
    "        return 0"
   ]
  },
  {
   "cell_type": "code",
   "execution_count": 3,
   "metadata": {},
   "outputs": [
    {
     "name": "stderr",
     "output_type": "stream",
     "text": [
      "/anaconda3/lib/python3.7/site-packages/ipykernel_launcher.py:3: FutureWarning: Method .as_matrix will be removed in a future version. Use .values instead.\n",
      "  This is separate from the ipykernel package so we can avoid doing imports until\n",
      "/anaconda3/lib/python3.7/site-packages/ipykernel_launcher.py:5: FutureWarning: Method .as_matrix will be removed in a future version. Use .values instead.\n",
      "  \"\"\"\n"
     ]
    }
   ],
   "source": [
    "raw_df = pd.read_csv(\"./dataset/moment_table.csv\", header = None)\n",
    "raw_df.rename(columns = {0:'moment', 1:'flatness', 2:'distance'}, inplace = True)\n",
    "raw_label = raw_df['distance'].as_matrix()\n",
    "raw_df['distance'] = raw_df.apply(lambda x : re_cate(x.distance), axis = 1)\n",
    "cls_label = raw_df['distance'].as_matrix()\n",
    "raw_df.drop(columns = ['distance'], axis = 1, inplace = True)"
   ]
  },
  {
   "cell_type": "code",
   "execution_count": 4,
   "metadata": {},
   "outputs": [
    {
     "data": {
      "text/plain": [
       "array([37.08, 37.1 , 37.12, 37.14, 37.16, 37.18, 37.2 , 37.22, 37.24,\n",
       "       37.26, 37.28, 37.3 , 37.32, 37.34, 37.36, 37.38, 37.4 , 37.42,\n",
       "       37.44, 37.46, 37.48, 37.5 , 37.52, 37.54, 37.56, 37.58, 37.6 ,\n",
       "       37.62, 37.64, 37.08, 37.1 , 37.12, 37.14, 37.16, 37.18, 37.2 ,\n",
       "       37.22, 37.24, 37.26, 37.28, 37.3 , 37.32, 37.34, 37.36, 37.38,\n",
       "       37.4 , 37.42, 37.44, 37.46, 37.48, 37.5 , 37.52, 37.54, 37.56,\n",
       "       37.58, 37.6 , 37.62, 37.64, 37.08, 37.1 , 37.12, 37.14, 37.16,\n",
       "       37.18, 37.2 , 37.22, 37.24, 37.26, 37.28, 37.3 , 37.32, 37.34,\n",
       "       37.36, 37.38, 37.4 , 37.42, 37.44, 37.46, 37.48, 37.5 , 37.52,\n",
       "       37.54, 37.56, 37.58, 37.6 , 37.62, 37.64])"
      ]
     },
     "execution_count": 4,
     "metadata": {},
     "output_type": "execute_result"
    }
   ],
   "source": [
    "raw_label"
   ]
  },
  {
   "cell_type": "code",
   "execution_count": 5,
   "metadata": {},
   "outputs": [
    {
     "name": "stderr",
     "output_type": "stream",
     "text": [
      "/anaconda3/lib/python3.7/site-packages/ipykernel_launcher.py:1: FutureWarning: Method .as_matrix will be removed in a future version. Use .values instead.\n",
      "  \"\"\"Entry point for launching an IPython kernel.\n"
     ]
    }
   ],
   "source": [
    "raw_feature = raw_df.as_matrix()\n",
    "raw_feature_mean = raw_feature.mean(axis = 0)\n",
    "raw_feature_std = raw_feature.std(axis = 0)\n",
    "raw_feature_normalized = (raw_feature - raw_feature_mean)/raw_feature_std"
   ]
  },
  {
   "cell_type": "code",
   "execution_count": 6,
   "metadata": {},
   "outputs": [],
   "source": [
    "kfold = StratifiedKFold(n_splits=10, shuffle=True, random_state=7)"
   ]
  },
  {
   "cell_type": "code",
   "execution_count": 8,
   "metadata": {},
   "outputs": [
    {
     "name": "stderr",
     "output_type": "stream",
     "text": [
      "/anaconda3/lib/python3.7/site-packages/sklearn/preprocessing/_encoders.py:371: FutureWarning: The handling of integer data will change in version 0.22. Currently, the categories are determined based on the range [0, max(values)], while in the future they will be determined based on the unique values.\n",
      "If you want the future behaviour and silence this warning, you can specify \"categories='auto'\".\n",
      "In case you used a LabelEncoder before this OneHotEncoder to convert the categories to integers, then you can now use the OneHotEncoder directly.\n",
      "  warnings.warn(msg, FutureWarning)\n"
     ]
    }
   ],
   "source": [
    "grd = GradientBoostingRegressor(n_estimators=100, learning_rate= 0.01, loss= 'ls', max_depth=3)\n",
    "grd.fit(raw_feature_normalized, raw_label)\n",
    "grd_enc_rlt = grd.apply(raw_feature_normalized)\n",
    "\n",
    "grd_enc = OneHotEncoder()\n",
    "grd_enc.fit(grd_enc_rlt)\n",
    "\n",
    "enc_onehot = grd_enc.transform(grd_enc_rlt).toarray()\n",
    "X_train_lr = np.append(raw_feature_normalized, enc_onehot, axis=1)"
   ]
  },
  {
   "cell_type": "code",
   "execution_count": 11,
   "metadata": {},
   "outputs": [],
   "source": [
    "lr = LogisticRegression(solver='newton-cg', multi_class='multinomial', C=4, tol=1e-6, max_iter=20)"
   ]
  },
  {
   "cell_type": "code",
   "execution_count": 12,
   "metadata": {},
   "outputs": [],
   "source": [
    "SVM = SVC(kernel='rbf',decision_function_shape='ovo',C=20,shrinking =False,tol =1e-6)"
   ]
  },
  {
   "cell_type": "code",
   "execution_count": 17,
   "metadata": {},
   "outputs": [
    {
     "name": "stdout",
     "output_type": "stream",
     "text": [
      "#### In Cross Validation 0: ####\n",
      "NumofIns Precisely Classified :  9 \t NumofIns :  9 \t Pre_Accuracy :  1.0 \t\n",
      "TP: 6\n",
      "FP: 1\n",
      "FN: 0\n",
      "TN: 3\n",
      "0.9\n",
      "0.8571428571428571\n",
      "1.0\n",
      "0.923076923076923\n",
      "#### In Cross Validation 1: ####\n",
      "NumofIns Precisely Classified :  9 \t NumofIns :  9 \t Pre_Accuracy :  1.0 \t\n",
      "TP: 6\n",
      "FP: 1\n",
      "FN: 0\n",
      "TN: 3\n",
      "0.9\n",
      "0.8571428571428571\n",
      "1.0\n",
      "0.923076923076923\n",
      "#### In Cross Validation 2: ####\n",
      "NumofIns Precisely Classified :  9 \t NumofIns :  9 \t Pre_Accuracy :  1.0 \t\n",
      "TP: 6\n",
      "FP: 1\n",
      "FN: 0\n",
      "TN: 3\n",
      "0.9\n",
      "0.8571428571428571\n",
      "1.0\n",
      "0.923076923076923\n",
      "#### In Cross Validation 3: ####\n",
      "NumofIns Precisely Classified :  9 \t NumofIns :  9 \t Pre_Accuracy :  1.0 \t\n",
      "TP: 6\n",
      "FP: 1\n",
      "FN: 0\n",
      "TN: 3\n",
      "0.9\n",
      "0.8571428571428571\n",
      "1.0\n",
      "0.923076923076923\n",
      "#### In Cross Validation 4: ####\n",
      "NumofIns Precisely Classified :  9 \t NumofIns :  9 \t Pre_Accuracy :  1.0 \t\n",
      "TP: 6\n",
      "FP: 1\n",
      "FN: 0\n",
      "TN: 3\n",
      "0.9\n",
      "0.8571428571428571\n",
      "1.0\n",
      "0.923076923076923\n",
      "#### In Cross Validation 5: ####\n",
      "NumofIns Precisely Classified :  9 \t NumofIns :  9 \t Pre_Accuracy :  1.0 \t\n",
      "TP: 6\n",
      "FP: 1\n",
      "FN: 0\n",
      "TN: 3\n",
      "0.9\n",
      "0.8571428571428571\n",
      "1.0\n",
      "0.923076923076923\n",
      "#### In Cross Validation 6: ####\n",
      "NumofIns Precisely Classified :  9 \t NumofIns :  9 \t Pre_Accuracy :  1.0 \t\n",
      "TP: 6\n",
      "FP: 1\n",
      "FN: 0\n",
      "TN: 3\n",
      "0.9\n",
      "0.8571428571428571\n",
      "1.0\n",
      "0.923076923076923\n",
      "#### In Cross Validation 7: ####\n",
      "NumofIns Precisely Classified :  8 \t NumofIns :  8 \t Pre_Accuracy :  1.0 \t\n",
      "TP: 5\n",
      "FP: 1\n",
      "FN: 0\n",
      "TN: 3\n",
      "0.8888888888888888\n",
      "0.8333333333333334\n",
      "1.0\n",
      "0.9090909090909091\n",
      "#### In Cross Validation 8: ####\n",
      "NumofIns Precisely Classified :  8 \t NumofIns :  8 \t Pre_Accuracy :  1.0 \t\n",
      "TP: 5\n",
      "FP: 1\n",
      "FN: 0\n",
      "TN: 3\n",
      "0.8888888888888888\n",
      "0.8333333333333334\n",
      "1.0\n",
      "0.9090909090909091\n",
      "#### In Cross Validation 9: ####\n",
      "NumofIns Precisely Classified :  8 \t NumofIns :  8 \t Pre_Accuracy :  1.0 \t\n",
      "TP: 5\n",
      "FP: 1\n",
      "FN: 0\n",
      "TN: 3\n",
      "0.8888888888888888\n",
      "0.8333333333333334\n",
      "1.0\n",
      "0.9090909090909091\n",
      "mean of NumofIns precisely classified 1.0\n",
      "mean of accuracy 0.8966666666666667\n",
      "mean of precision 0.85\n",
      "mean of recall 1.0\n",
      "mean of f1 0.9188811188811187\n"
     ]
    }
   ],
   "source": [
    "count_CV = 0\n",
    "test_acc_record = []\n",
    "test_pre_record = []\n",
    "accuracy_list = []\n",
    "precision_list = []\n",
    "recall_list = []\n",
    "f1_list = []\n",
    "\n",
    "for train_index,test_index in kfold.split(X_train_lr, cls_label):\n",
    "    lr.fit(X_train_lr[train_index], cls_label[train_index])\n",
    "    pred_smile_label = lr.predict(X_train_lr[test_index])\n",
    "    real_label = cls_label[test_index]\n",
    "    \n",
    "    TP_num = 0\n",
    "    FP_num = 0\n",
    "    FN_num = 0\n",
    "    TN_num = 0\n",
    "\n",
    "    \n",
    "    test_count_num = 0\n",
    "    real_label_index = 0\n",
    "    pre_label_num = 0\n",
    "    \n",
    "    for label in pred_smile_label:\n",
    "        if label == real_label[real_label_index]:\n",
    "            if label == 0:\n",
    "                TN_num += 1\n",
    "            if label == 1:\n",
    "                TP_num += 1\n",
    "            pre_label_num += 1\n",
    "        else:\n",
    "            if label == 0:\n",
    "                FN_num += 1\n",
    "            if label == 1:\n",
    "                FP_num += 1\n",
    "            \n",
    "        real_label_index += 1\n",
    "        test_count_num += 1\n",
    "    \n",
    "    print('#### In Cross Validation %d: ####'% count_CV)\n",
    "    count_CV += 1\n",
    "    print('NumofIns Precisely Classified : ',pre_label_num,'\\t',\n",
    "          'NumofIns : ',test_count_num,'\\t',\n",
    "          'Pre_Accuracy : ',pre_label_num/test_count_num,'\\t',)\n",
    "    \n",
    "    test_pre_record.append(pre_label_num/test_count_num)\n",
    "    FP_num += 1\n",
    "    print(\"TP:\", TP_num)\n",
    "    print(\"FP:\", FP_num)\n",
    "    print(\"FN:\", FN_num)\n",
    "    print(\"TN:\", TN_num)\n",
    "    accuracy = (TP_num + TN_num)/(TP_num + FP_num + FN_num + TN_num)\n",
    "    precision = TP_num/(TP_num + FP_num)\n",
    "    recall = TP_num/(TP_num + FN_num)\n",
    "    f1 = (2 * precision * recall)/(precision + recall)\n",
    "    print(accuracy)\n",
    "    print(precision)\n",
    "    print(recall)\n",
    "    print(f1)\n",
    "    accuracy_list.append(accuracy)\n",
    "    precision_list.append(precision)\n",
    "    recall_list.append(recall)\n",
    "    f1_list.append(f1)\n",
    "    \n",
    "print('mean of NumofIns precisely classified',np.mean(test_pre_record))\n",
    "print('mean of accuracy',np.mean(accuracy_list))\n",
    "print('mean of precision',np.mean(precision_list))\n",
    "print('mean of recall',np.mean(recall_list))\n",
    "print('mean of f1',np.mean(f1_list))"
   ]
  },
  {
   "cell_type": "code",
   "execution_count": null,
   "metadata": {},
   "outputs": [],
   "source": []
  }
 ],
 "metadata": {
  "kernelspec": {
   "display_name": "Python 3",
   "language": "python",
   "name": "python3"
  },
  "language_info": {
   "codemirror_mode": {
    "name": "ipython",
    "version": 3
   },
   "file_extension": ".py",
   "mimetype": "text/x-python",
   "name": "python",
   "nbconvert_exporter": "python",
   "pygments_lexer": "ipython3",
   "version": "3.7.3"
  }
 },
 "nbformat": 4,
 "nbformat_minor": 2
}
