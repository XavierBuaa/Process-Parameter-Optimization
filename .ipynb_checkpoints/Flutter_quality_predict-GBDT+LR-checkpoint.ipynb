{
 "cells": [
  {
   "cell_type": "code",
   "execution_count": 2,
   "metadata": {},
   "outputs": [],
   "source": [
    "import xlrd\n",
    "import numpy as np\n",
    "import pandas as pd\n",
    "from xgboost.sklearn import XGBRegressor\n",
    "from xgboost.sklearn import XGBClassifier\n",
    "from sklearn.ensemble import GradientBoostingRegressor\n",
    "from sklearn.model_selection import StratifiedKFold\n",
    "from sklearn.preprocessing import OneHotEncoder\n",
    "from sklearn.linear_model import LogisticRegression\n",
    "from sklearn.svm import SVC"
   ]
  },
  {
   "cell_type": "code",
   "execution_count": 3,
   "metadata": {},
   "outputs": [],
   "source": [
    "raw_df = pd.read_csv(\"./dataset/data_entropy.csv\", header = None)\n",
    "raw_df.rename(columns = {0:'Ae', 1:'Ap', 2:'Rs', 3:'Fz', 4:'label'}, inplace = True)"
   ]
  },
  {
   "cell_type": "code",
   "execution_count": 4,
   "metadata": {},
   "outputs": [],
   "source": [
    "raw_matrix = raw_df.values\n",
    "raw_feature = raw_matrix[:, 0:-2]\n",
    "raw_label = raw_matrix[:, -1]\n",
    "raw_feature_mean = raw_feature.mean(axis = 0)\n",
    "raw_feature_std = raw_feature.std(axis = 0)\n",
    "raw_feature_normalized = (raw_feature - raw_feature_mean)/raw_feature_std\n",
    "#np.random.shuffle(raw_feature_normalized)\n",
    "kfold = StratifiedKFold(n_splits=10, shuffle=True, random_state=7)"
   ]
  },
  {
   "cell_type": "code",
   "execution_count": 5,
   "metadata": {},
   "outputs": [],
   "source": [
    "grd = GradientBoostingRegressor(n_estimators=100, learning_rate= 0.01, loss= 'ls', max_depth=3)"
   ]
  },
  {
   "cell_type": "code",
   "execution_count": 6,
   "metadata": {},
   "outputs": [],
   "source": [
    "lr = LogisticRegression(solver='newton-cg', multi_class='multinomial', C=4, tol=1e-6, max_iter=20)"
   ]
  },
  {
   "cell_type": "code",
   "execution_count": 7,
   "metadata": {},
   "outputs": [],
   "source": [
    "SVM = SVC(kernel='rbf',decision_function_shape='ovo',C=20,shrinking =False,tol =1e-6)"
   ]
  },
  {
   "cell_type": "code",
   "execution_count": 8,
   "metadata": {
    "scrolled": true
   },
   "outputs": [
    {
     "name": "stderr",
     "output_type": "stream",
     "text": [
      "/anaconda3/lib/python3.7/site-packages/sklearn/preprocessing/_encoders.py:371: FutureWarning: The handling of integer data will change in version 0.22. Currently, the categories are determined based on the range [0, max(values)], while in the future they will be determined based on the unique values.\n",
      "If you want the future behaviour and silence this warning, you can specify \"categories='auto'\".\n",
      "In case you used a LabelEncoder before this OneHotEncoder to convert the categories to integers, then you can now use the OneHotEncoder directly.\n",
      "  warnings.warn(msg, FutureWarning)\n",
      "/anaconda3/lib/python3.7/site-packages/sklearn/utils/optimize.py:203: ConvergenceWarning: newton-cg failed to converge. Increase the number of iterations.\n",
      "  \"number of iterations.\", ConvergenceWarning)\n",
      "/anaconda3/lib/python3.7/site-packages/sklearn/utils/optimize.py:203: ConvergenceWarning: newton-cg failed to converge. Increase the number of iterations.\n",
      "  \"number of iterations.\", ConvergenceWarning)\n"
     ]
    },
    {
     "name": "stdout",
     "output_type": "stream",
     "text": [
      "#### In Cross Validation 0: ####\n",
      "NumofIns Precisely Classified :  35 \t NumofIns :  39 \t Pre_Accuracy :  0.8974358974358975 \t\n",
      "TP: 31\n",
      "FP: 4\n",
      "FN: 0\n",
      "TN: 4\n",
      "0.8974358974358975\n",
      "0.8857142857142857\n",
      "1.0\n",
      "0.9393939393939393\n",
      "#### In Cross Validation 1: ####\n",
      "NumofIns Precisely Classified :  35 \t NumofIns :  39 \t Pre_Accuracy :  0.8974358974358975 \t\n",
      "TP: 31\n",
      "FP: 4\n",
      "FN: 0\n",
      "TN: 4\n",
      "0.8974358974358975\n",
      "0.8857142857142857\n",
      "1.0\n",
      "0.9393939393939393\n",
      "#### In Cross Validation 2: ####\n",
      "NumofIns Precisely Classified :  35 \t NumofIns :  39 \t Pre_Accuracy :  0.8974358974358975 \t\n",
      "TP: 30\n",
      "FP: 3\n",
      "FN: 1\n",
      "TN: 5\n",
      "0.8974358974358975\n",
      "0.9090909090909091\n",
      "0.967741935483871\n",
      "0.9374999999999999\n",
      "#### In Cross Validation 3: ####\n",
      "NumofIns Precisely Classified :  28 \t NumofIns :  38 \t Pre_Accuracy :  0.7368421052631579 \t\n",
      "TP: 26\n",
      "FP: 6\n",
      "FN: 4\n",
      "TN: 2\n",
      "0.7368421052631579\n",
      "0.8125\n",
      "0.8666666666666667\n",
      "0.8387096774193549\n"
     ]
    },
    {
     "name": "stderr",
     "output_type": "stream",
     "text": [
      "/anaconda3/lib/python3.7/site-packages/sklearn/utils/optimize.py:203: ConvergenceWarning: newton-cg failed to converge. Increase the number of iterations.\n",
      "  \"number of iterations.\", ConvergenceWarning)\n",
      "/anaconda3/lib/python3.7/site-packages/sklearn/utils/optimize.py:203: ConvergenceWarning: newton-cg failed to converge. Increase the number of iterations.\n",
      "  \"number of iterations.\", ConvergenceWarning)\n",
      "/anaconda3/lib/python3.7/site-packages/sklearn/utils/optimize.py:203: ConvergenceWarning: newton-cg failed to converge. Increase the number of iterations.\n",
      "  \"number of iterations.\", ConvergenceWarning)\n",
      "/anaconda3/lib/python3.7/site-packages/sklearn/utils/optimize.py:203: ConvergenceWarning: newton-cg failed to converge. Increase the number of iterations.\n",
      "  \"number of iterations.\", ConvergenceWarning)\n"
     ]
    },
    {
     "name": "stdout",
     "output_type": "stream",
     "text": [
      "#### In Cross Validation 4: ####\n",
      "NumofIns Precisely Classified :  30 \t NumofIns :  38 \t Pre_Accuracy :  0.7894736842105263 \t\n",
      "TP: 26\n",
      "FP: 4\n",
      "FN: 4\n",
      "TN: 4\n",
      "0.7894736842105263\n",
      "0.8666666666666667\n",
      "0.8666666666666667\n",
      "0.8666666666666667\n",
      "#### In Cross Validation 5: ####\n",
      "NumofIns Precisely Classified :  33 \t NumofIns :  38 \t Pre_Accuracy :  0.868421052631579 \t\n",
      "TP: 28\n",
      "FP: 3\n",
      "FN: 2\n",
      "TN: 5\n",
      "0.868421052631579\n",
      "0.9032258064516129\n",
      "0.9333333333333333\n",
      "0.9180327868852459\n",
      "#### In Cross Validation 6: ####\n",
      "NumofIns Precisely Classified :  33 \t NumofIns :  38 \t Pre_Accuracy :  0.868421052631579 \t\n",
      "TP: 29\n",
      "FP: 4\n",
      "FN: 1\n",
      "TN: 4\n",
      "0.868421052631579\n",
      "0.8787878787878788\n",
      "0.9666666666666667\n",
      "0.9206349206349207\n",
      "#### In Cross Validation 7: ####\n",
      "NumofIns Precisely Classified :  32 \t NumofIns :  37 \t Pre_Accuracy :  0.8648648648648649 \t\n",
      "TP: 25\n",
      "FP: 0\n",
      "FN: 5\n",
      "TN: 7\n",
      "0.8648648648648649\n",
      "1.0\n",
      "0.8333333333333334\n",
      "0.9090909090909091\n"
     ]
    },
    {
     "name": "stderr",
     "output_type": "stream",
     "text": [
      "/anaconda3/lib/python3.7/site-packages/sklearn/utils/optimize.py:203: ConvergenceWarning: newton-cg failed to converge. Increase the number of iterations.\n",
      "  \"number of iterations.\", ConvergenceWarning)\n",
      "/anaconda3/lib/python3.7/site-packages/sklearn/utils/optimize.py:203: ConvergenceWarning: newton-cg failed to converge. Increase the number of iterations.\n",
      "  \"number of iterations.\", ConvergenceWarning)\n",
      "/anaconda3/lib/python3.7/site-packages/sklearn/utils/optimize.py:203: ConvergenceWarning: newton-cg failed to converge. Increase the number of iterations.\n",
      "  \"number of iterations.\", ConvergenceWarning)\n"
     ]
    },
    {
     "name": "stdout",
     "output_type": "stream",
     "text": [
      "#### In Cross Validation 8: ####\n",
      "NumofIns Precisely Classified :  32 \t NumofIns :  37 \t Pre_Accuracy :  0.8648648648648649 \t\n",
      "TP: 29\n",
      "FP: 4\n",
      "FN: 1\n",
      "TN: 3\n",
      "0.8648648648648649\n",
      "0.8787878787878788\n",
      "0.9666666666666667\n",
      "0.9206349206349207\n",
      "#### In Cross Validation 9: ####\n",
      "NumofIns Precisely Classified :  30 \t NumofIns :  37 \t Pre_Accuracy :  0.8108108108108109 \t\n",
      "TP: 26\n",
      "FP: 3\n",
      "FN: 4\n",
      "TN: 4\n",
      "0.8108108108108109\n",
      "0.896551724137931\n",
      "0.8666666666666667\n",
      "0.8813559322033899\n",
      "mean of NumofIns precisely classified 0.8496006127585074\n",
      "mean of accuracy 0.8496006127585074\n",
      "mean of precision 0.8917039435351448\n",
      "mean of recall 0.9267741935483871\n",
      "mean of f1 0.9071413692323287\n"
     ]
    }
   ],
   "source": [
    "count_CV = 0\n",
    "test_acc_record = []\n",
    "test_pre_record = []\n",
    "accuracy_list = []\n",
    "precision_list = []\n",
    "recall_list = []\n",
    "f1_list = []\n",
    "\n",
    "grd.fit(raw_feature_normalized, raw_label)\n",
    "grd_enc_rlt = grd.apply(raw_feature_normalized)\n",
    "\n",
    "grd_enc = OneHotEncoder()\n",
    "grd_enc.fit(grd_enc_rlt)\n",
    "\n",
    "enc_onehot = grd_enc.transform(grd_enc_rlt).toarray()\n",
    "X_train_lr = np.append(raw_feature_normalized, enc_onehot, axis=1)\n",
    "    \n",
    "accuracy_label_list = []\n",
    "for ele in raw_label:\n",
    "    if ele >= 1.6:\n",
    "        accuracy_label_list.append(1)\n",
    "    else:\n",
    "        accuracy_label_list.append(0)\n",
    "accuracy_label = np.array(accuracy_label_list)\n",
    "\n",
    "for train_index,test_index in kfold.split(X_train_lr, accuracy_label):\n",
    "    lr.fit(X_train_lr[train_index], accuracy_label[train_index])\n",
    "    pred_smile_label = lr.predict(X_train_lr[test_index])\n",
    "    real_label = accuracy_label[test_index]\n",
    "  \n",
    "    TP_num = 0\n",
    "    FP_num = 0\n",
    "    FN_num = 0\n",
    "    TN_num = 0\n",
    "    \n",
    "    test_count_num = 0\n",
    "    real_label_index = 0\n",
    "    pre_label_num = 0\n",
    "    \n",
    "    for label in pred_smile_label:\n",
    "        if label == real_label[real_label_index]:\n",
    "            if label == 0:\n",
    "                TN_num += 1\n",
    "            if label == 1:\n",
    "                TP_num += 1\n",
    "            pre_label_num += 1\n",
    "        else:\n",
    "            if label == 0:\n",
    "                FN_num += 1\n",
    "            if label == 1:\n",
    "                FP_num += 1\n",
    "                \n",
    "        real_label_index += 1\n",
    "        test_count_num += 1\n",
    "    \n",
    "    print('#### In Cross Validation %d: ####'% count_CV)\n",
    "    count_CV += 1\n",
    "    print('NumofIns Precisely Classified : ',pre_label_num,'\\t',\n",
    "          'NumofIns : ',test_count_num,'\\t',\n",
    "          'Pre_Accuracy : ',pre_label_num/test_count_num,'\\t',)\n",
    "    \n",
    "    test_pre_record.append(pre_label_num/test_count_num)\n",
    "\n",
    "    print(\"TP:\", TP_num)\n",
    "    print(\"FP:\", FP_num)\n",
    "    print(\"FN:\", FN_num)\n",
    "    print(\"TN:\", TN_num)\n",
    "    accuracy = (TP_num + TN_num)/(TP_num + FP_num + FN_num + TN_num)\n",
    "    precision = TP_num/(TP_num + FP_num)\n",
    "    recall = TP_num/(TP_num + FN_num)\n",
    "    f1 = (2 * precision * recall)/(precision + recall)\n",
    "    print(accuracy)\n",
    "    print(precision)\n",
    "    print(recall)\n",
    "    print(f1)\n",
    "    accuracy_list.append(accuracy)\n",
    "    precision_list.append(precision)\n",
    "    recall_list.append(recall)\n",
    "    f1_list.append(f1)\n",
    "    \n",
    "print('mean of NumofIns precisely classified',np.mean(test_pre_record))\n",
    "print('mean of accuracy',np.mean(accuracy_list))\n",
    "print('mean of precision',np.mean(precision_list))\n",
    "print('mean of recall',np.mean(recall_list))\n",
    "print('mean of f1',np.mean(f1_list))"
   ]
  },
  {
   "cell_type": "code",
   "execution_count": 12,
   "metadata": {},
   "outputs": [],
   "source": [
    "pred_feature = X_train_lr[38:57]"
   ]
  },
  {
   "cell_type": "code",
   "execution_count": 13,
   "metadata": {},
   "outputs": [
    {
     "data": {
      "text/plain": [
       "(19, 803)"
      ]
     },
     "execution_count": 13,
     "metadata": {},
     "output_type": "execute_result"
    }
   ],
   "source": [
    "pred_feature.shape"
   ]
  },
  {
   "cell_type": "code",
   "execution_count": null,
   "metadata": {},
   "outputs": [],
   "source": []
  }
 ],
 "metadata": {
  "kernelspec": {
   "display_name": "Python 3",
   "language": "python",
   "name": "python3"
  },
  "language_info": {
   "codemirror_mode": {
    "name": "ipython",
    "version": 3
   },
   "file_extension": ".py",
   "mimetype": "text/x-python",
   "name": "python",
   "nbconvert_exporter": "python",
   "pygments_lexer": "ipython3",
   "version": "3.7.3"
  }
 },
 "nbformat": 4,
 "nbformat_minor": 2
}
