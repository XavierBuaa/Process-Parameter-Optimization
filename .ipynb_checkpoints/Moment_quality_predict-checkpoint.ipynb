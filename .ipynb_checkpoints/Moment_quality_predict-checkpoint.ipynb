{
 "cells": [
  {
   "cell_type": "code",
   "execution_count": 1,
   "metadata": {},
   "outputs": [],
   "source": [
    "import xlrd\n",
    "import numpy as np\n",
    "import pandas as pd\n",
    "from xgboost.sklearn import XGBRegressor\n",
    "from xgboost.sklearn import XGBClassifier\n",
    "from sklearn.ensemble import GradientBoostingRegressor\n",
    "from sklearn.model_selection import StratifiedKFold\n",
    "from sklearn.preprocessing import OneHotEncoder\n",
    "from sklearn.linear_model import LogisticRegression\n",
    "from sklearn.svm import SVC"
   ]
  },
  {
   "cell_type": "code",
   "execution_count": 2,
   "metadata": {},
   "outputs": [],
   "source": [
    "def re_cate(label):\n",
    "    if label >37.2 and label < 37.6:\n",
    "        return 1\n",
    "    else:\n",
    "        return 0"
   ]
  },
  {
   "cell_type": "code",
   "execution_count": 3,
   "metadata": {},
   "outputs": [
    {
     "name": "stderr",
     "output_type": "stream",
     "text": [
      "/anaconda3/lib/python3.7/site-packages/ipykernel_launcher.py:4: FutureWarning: Method .as_matrix will be removed in a future version. Use .values instead.\n",
      "  after removing the cwd from sys.path.\n"
     ]
    }
   ],
   "source": [
    "raw_df = pd.read_csv(\"./dataset/moment_table.csv\", header = None)\n",
    "raw_df.rename(columns = {0:'moment', 1:'flatness', 2:'distance'}, inplace = True)\n",
    "raw_df['distance'] = raw_df.apply(lambda x : re_cate(x.distance), axis = 1)\n",
    "raw_label = raw_df['distance'].as_matrix()\n",
    "raw_df.drop(columns = ['distance'], axis = 1, inplace = True)"
   ]
  },
  {
   "cell_type": "code",
   "execution_count": 4,
   "metadata": {},
   "outputs": [
    {
     "name": "stderr",
     "output_type": "stream",
     "text": [
      "/anaconda3/lib/python3.7/site-packages/ipykernel_launcher.py:1: FutureWarning: Method .as_matrix will be removed in a future version. Use .values instead.\n",
      "  \"\"\"Entry point for launching an IPython kernel.\n"
     ]
    }
   ],
   "source": [
    "raw_feature = raw_df.as_matrix()\n",
    "raw_feature_mean = raw_feature.mean(axis = 0)\n",
    "raw_feature_std = raw_feature.std(axis = 0)\n",
    "raw_feature_normalized = (raw_feature - raw_feature_mean)/raw_feature_std"
   ]
  },
  {
   "cell_type": "code",
   "execution_count": 5,
   "metadata": {},
   "outputs": [],
   "source": [
    "kfold = StratifiedKFold(n_splits=10, shuffle=True, random_state=7)"
   ]
  },
  {
   "cell_type": "code",
   "execution_count": 6,
   "metadata": {},
   "outputs": [],
   "source": [
    "lr = LogisticRegression(solver='newton-cg', multi_class='multinomial', C=4, tol=1e-6, max_iter=20)"
   ]
  },
  {
   "cell_type": "code",
   "execution_count": 7,
   "metadata": {},
   "outputs": [
    {
     "name": "stdout",
     "output_type": "stream",
     "text": [
      "#### In Cross Validation 0: ####\n",
      "NumofIns Precisely Classified :  8 \t NumofIns :  9 \t Pre_Accuracy :  0.8888888888888888 \t\n",
      "#### In Cross Validation 1: ####\n",
      "NumofIns Precisely Classified :  9 \t NumofIns :  9 \t Pre_Accuracy :  1.0 \t\n",
      "#### In Cross Validation 2: ####\n",
      "NumofIns Precisely Classified :  7 \t NumofIns :  9 \t Pre_Accuracy :  0.7777777777777778 \t\n",
      "#### In Cross Validation 3: ####\n",
      "NumofIns Precisely Classified :  7 \t NumofIns :  9 \t Pre_Accuracy :  0.7777777777777778 \t\n",
      "#### In Cross Validation 4: ####\n",
      "NumofIns Precisely Classified :  7 \t NumofIns :  9 \t Pre_Accuracy :  0.7777777777777778 \t\n",
      "#### In Cross Validation 5: ####\n",
      "NumofIns Precisely Classified :  7 \t NumofIns :  9 \t Pre_Accuracy :  0.7777777777777778 \t\n",
      "#### In Cross Validation 6: ####\n",
      "NumofIns Precisely Classified :  7 \t NumofIns :  9 \t Pre_Accuracy :  0.7777777777777778 \t\n",
      "#### In Cross Validation 7: ####\n",
      "NumofIns Precisely Classified :  5 \t NumofIns :  8 \t Pre_Accuracy :  0.625 \t\n",
      "#### In Cross Validation 8: ####\n",
      "NumofIns Precisely Classified :  7 \t NumofIns :  8 \t Pre_Accuracy :  0.875 \t\n",
      "#### In Cross Validation 9: ####\n",
      "NumofIns Precisely Classified :  8 \t NumofIns :  8 \t Pre_Accuracy :  1.0 \t\n",
      "mean of NumofIns precisely classified 0.8277777777777778\n"
     ]
    }
   ],
   "source": [
    "count_CV = 0\n",
    "test_acc_record = []\n",
    "test_pre_record = []\n",
    "\n",
    "for train_index,test_index in kfold.split(raw_feature_normalized, raw_label):\n",
    "    lr.fit(raw_feature_normalized[train_index], raw_label[train_index])\n",
    "    pred_smile_label = lr.predict(raw_feature_normalized[test_index])\n",
    "    real_label = raw_label[test_index]\n",
    "    \n",
    "    test_count_num = 0\n",
    "    real_label_index = 0\n",
    "    pre_label_num = 0\n",
    "    \n",
    "    for label in pred_smile_label:\n",
    "        if label == real_label[real_label_index]:\n",
    "            pre_label_num += 1\n",
    "        real_label_index += 1\n",
    "        test_count_num += 1\n",
    "    \n",
    "    print('#### In Cross Validation %d: ####'% count_CV)\n",
    "    count_CV += 1\n",
    "    print('NumofIns Precisely Classified : ',pre_label_num,'\\t',\n",
    "          'NumofIns : ',test_count_num,'\\t',\n",
    "          'Pre_Accuracy : ',pre_label_num/test_count_num,'\\t',)\n",
    "    \n",
    "    test_pre_record.append(pre_label_num/test_count_num)\n",
    "\n",
    "print('mean of NumofIns precisely classified',np.mean(test_pre_record))"
   ]
  },
  {
   "cell_type": "code",
   "execution_count": 8,
   "metadata": {},
   "outputs": [],
   "source": [
    "SVM = SVC(kernel='rbf',decision_function_shape='ovo',C=20,shrinking =False,tol =1e-6)"
   ]
  },
  {
   "cell_type": "code",
   "execution_count": 9,
   "metadata": {},
   "outputs": [
    {
     "name": "stdout",
     "output_type": "stream",
     "text": [
      "#### In Cross Validation 0: ####\n",
      "NumofIns Precisely Classified :  8 \t NumofIns :  9 \t Pre_Accuracy :  0.8888888888888888 \t\n",
      "#### In Cross Validation 1: ####\n",
      "NumofIns Precisely Classified :  9 \t NumofIns :  9 \t Pre_Accuracy :  1.0 \t\n",
      "#### In Cross Validation 2: ####\n",
      "NumofIns Precisely Classified :  9 \t NumofIns :  9 \t Pre_Accuracy :  1.0 \t\n",
      "#### In Cross Validation 3: ####\n",
      "NumofIns Precisely Classified :  9 \t NumofIns :  9 \t Pre_Accuracy :  1.0 \t\n",
      "#### In Cross Validation 4: ####\n",
      "NumofIns Precisely Classified :  8 \t NumofIns :  9 \t Pre_Accuracy :  0.8888888888888888 \t\n",
      "#### In Cross Validation 5: ####\n",
      "NumofIns Precisely Classified :  8 \t NumofIns :  9 \t Pre_Accuracy :  0.8888888888888888 \t\n",
      "#### In Cross Validation 6: ####\n",
      "NumofIns Precisely Classified :  9 \t NumofIns :  9 \t Pre_Accuracy :  1.0 \t\n",
      "#### In Cross Validation 7: ####\n",
      "NumofIns Precisely Classified :  7 \t NumofIns :  8 \t Pre_Accuracy :  0.875 \t\n",
      "#### In Cross Validation 8: ####\n",
      "NumofIns Precisely Classified :  8 \t NumofIns :  8 \t Pre_Accuracy :  1.0 \t\n",
      "#### In Cross Validation 9: ####\n",
      "NumofIns Precisely Classified :  8 \t NumofIns :  8 \t Pre_Accuracy :  1.0 \t\n",
      "mean of NumofIns precisely classified 0.9541666666666666\n"
     ]
    },
    {
     "name": "stderr",
     "output_type": "stream",
     "text": [
      "/anaconda3/lib/python3.7/site-packages/sklearn/svm/base.py:196: FutureWarning: The default value of gamma will change from 'auto' to 'scale' in version 0.22 to account better for unscaled features. Set gamma explicitly to 'auto' or 'scale' to avoid this warning.\n",
      "  \"avoid this warning.\", FutureWarning)\n",
      "/anaconda3/lib/python3.7/site-packages/sklearn/svm/base.py:196: FutureWarning: The default value of gamma will change from 'auto' to 'scale' in version 0.22 to account better for unscaled features. Set gamma explicitly to 'auto' or 'scale' to avoid this warning.\n",
      "  \"avoid this warning.\", FutureWarning)\n",
      "/anaconda3/lib/python3.7/site-packages/sklearn/svm/base.py:196: FutureWarning: The default value of gamma will change from 'auto' to 'scale' in version 0.22 to account better for unscaled features. Set gamma explicitly to 'auto' or 'scale' to avoid this warning.\n",
      "  \"avoid this warning.\", FutureWarning)\n",
      "/anaconda3/lib/python3.7/site-packages/sklearn/svm/base.py:196: FutureWarning: The default value of gamma will change from 'auto' to 'scale' in version 0.22 to account better for unscaled features. Set gamma explicitly to 'auto' or 'scale' to avoid this warning.\n",
      "  \"avoid this warning.\", FutureWarning)\n",
      "/anaconda3/lib/python3.7/site-packages/sklearn/svm/base.py:196: FutureWarning: The default value of gamma will change from 'auto' to 'scale' in version 0.22 to account better for unscaled features. Set gamma explicitly to 'auto' or 'scale' to avoid this warning.\n",
      "  \"avoid this warning.\", FutureWarning)\n",
      "/anaconda3/lib/python3.7/site-packages/sklearn/svm/base.py:196: FutureWarning: The default value of gamma will change from 'auto' to 'scale' in version 0.22 to account better for unscaled features. Set gamma explicitly to 'auto' or 'scale' to avoid this warning.\n",
      "  \"avoid this warning.\", FutureWarning)\n",
      "/anaconda3/lib/python3.7/site-packages/sklearn/svm/base.py:196: FutureWarning: The default value of gamma will change from 'auto' to 'scale' in version 0.22 to account better for unscaled features. Set gamma explicitly to 'auto' or 'scale' to avoid this warning.\n",
      "  \"avoid this warning.\", FutureWarning)\n",
      "/anaconda3/lib/python3.7/site-packages/sklearn/svm/base.py:196: FutureWarning: The default value of gamma will change from 'auto' to 'scale' in version 0.22 to account better for unscaled features. Set gamma explicitly to 'auto' or 'scale' to avoid this warning.\n",
      "  \"avoid this warning.\", FutureWarning)\n",
      "/anaconda3/lib/python3.7/site-packages/sklearn/svm/base.py:196: FutureWarning: The default value of gamma will change from 'auto' to 'scale' in version 0.22 to account better for unscaled features. Set gamma explicitly to 'auto' or 'scale' to avoid this warning.\n",
      "  \"avoid this warning.\", FutureWarning)\n",
      "/anaconda3/lib/python3.7/site-packages/sklearn/svm/base.py:196: FutureWarning: The default value of gamma will change from 'auto' to 'scale' in version 0.22 to account better for unscaled features. Set gamma explicitly to 'auto' or 'scale' to avoid this warning.\n",
      "  \"avoid this warning.\", FutureWarning)\n"
     ]
    }
   ],
   "source": [
    "count_CV = 0\n",
    "test_acc_record = []\n",
    "test_pre_record = []\n",
    "\n",
    "for train_index,test_index in kfold.split(raw_feature_normalized, raw_label):\n",
    "    SVM.fit(raw_feature_normalized[train_index], raw_label[train_index])\n",
    "    pred_smile_label = SVM.predict(raw_feature_normalized[test_index])\n",
    "    real_label = raw_label[test_index]\n",
    "    \n",
    "    test_count_num = 0\n",
    "    real_label_index = 0\n",
    "    pre_label_num = 0\n",
    "    \n",
    "    for label in pred_smile_label:\n",
    "        if label == real_label[real_label_index]:\n",
    "            pre_label_num += 1\n",
    "        real_label_index += 1\n",
    "        test_count_num += 1\n",
    "    \n",
    "    print('#### In Cross Validation %d: ####'% count_CV)\n",
    "    count_CV += 1\n",
    "    print('NumofIns Precisely Classified : ',pre_label_num,'\\t',\n",
    "          'NumofIns : ',test_count_num,'\\t',\n",
    "          'Pre_Accuracy : ',pre_label_num/test_count_num,'\\t',)\n",
    "    \n",
    "    test_pre_record.append(pre_label_num/test_count_num)\n",
    "\n",
    "print('mean of NumofIns precisely classified',np.mean(test_pre_record))"
   ]
  },
  {
   "cell_type": "code",
   "execution_count": 10,
   "metadata": {},
   "outputs": [],
   "source": [
    "XGB_C = XGBClassifier(\n",
    "    #booster = 'gblinear',\n",
    "    #objective='multi:softmax',\n",
    "    #num_class=7,#必须要考虑到0的情况。这个数据集里面没有零\n",
    "    n_estimators=200,\n",
    "    max_depth=4,\n",
    "    min_child_weight = 5,\n",
    "    scale_pos_weight = 5,\n",
    "    num_boost_round =5,\n",
    "    max_delta_step=1000,\n",
    "    alpha =2,\n",
    "    eta=1\n",
    "    #colsample_bytree=0.9\n",
    "    #gamma=5,\n",
    "    #process_type='update'\n",
    ")"
   ]
  },
  {
   "cell_type": "code",
   "execution_count": 11,
   "metadata": {},
   "outputs": [
    {
     "name": "stdout",
     "output_type": "stream",
     "text": [
      "#### In Cross Validation 0: ####\n",
      "NumofIns Precisely Classified :  8 \t NumofIns :  9 \t Pre_Accuracy :  0.8888888888888888 \t\n",
      "#### In Cross Validation 1: ####\n",
      "NumofIns Precisely Classified :  8 \t NumofIns :  9 \t Pre_Accuracy :  0.8888888888888888 \t\n",
      "#### In Cross Validation 2: ####\n",
      "NumofIns Precisely Classified :  7 \t NumofIns :  9 \t Pre_Accuracy :  0.7777777777777778 \t\n",
      "#### In Cross Validation 3: ####\n",
      "NumofIns Precisely Classified :  8 \t NumofIns :  9 \t Pre_Accuracy :  0.8888888888888888 \t\n",
      "#### In Cross Validation 4: ####\n",
      "NumofIns Precisely Classified :  8 \t NumofIns :  9 \t Pre_Accuracy :  0.8888888888888888 \t\n",
      "#### In Cross Validation 5: ####\n",
      "NumofIns Precisely Classified :  9 \t NumofIns :  9 \t Pre_Accuracy :  1.0 \t\n",
      "#### In Cross Validation 6: ####\n",
      "NumofIns Precisely Classified :  6 \t NumofIns :  9 \t Pre_Accuracy :  0.6666666666666666 \t\n",
      "#### In Cross Validation 7: ####\n",
      "NumofIns Precisely Classified :  7 \t NumofIns :  8 \t Pre_Accuracy :  0.875 \t\n",
      "#### In Cross Validation 8: ####\n",
      "NumofIns Precisely Classified :  7 \t NumofIns :  8 \t Pre_Accuracy :  0.875 \t\n",
      "#### In Cross Validation 9: ####\n",
      "NumofIns Precisely Classified :  7 \t NumofIns :  8 \t Pre_Accuracy :  0.875 \t\n",
      "mean of NumofIns precisely classified 0.8625\n"
     ]
    }
   ],
   "source": [
    "count_CV = 0\n",
    "test_acc_record = []\n",
    "test_pre_record = []\n",
    "\n",
    "for train_index,test_index in kfold.split(raw_feature_normalized, raw_label):\n",
    "    XGB_C.fit(raw_feature_normalized[train_index], raw_label[train_index])\n",
    "    pred_smile_label = XGB_C.predict(raw_feature_normalized[test_index])\n",
    "    real_label = raw_label[test_index]\n",
    "    \n",
    "    test_count_num = 0\n",
    "    real_label_index = 0\n",
    "    pre_label_num = 0\n",
    "    \n",
    "    for label in pred_smile_label:\n",
    "        if label == real_label[real_label_index]:\n",
    "            pre_label_num += 1\n",
    "        real_label_index += 1\n",
    "        test_count_num += 1\n",
    "    \n",
    "    print('#### In Cross Validation %d: ####'% count_CV)\n",
    "    count_CV += 1\n",
    "    print('NumofIns Precisely Classified : ',pre_label_num,'\\t',\n",
    "          'NumofIns : ',test_count_num,'\\t',\n",
    "          'Pre_Accuracy : ',pre_label_num/test_count_num,'\\t',)\n",
    "    \n",
    "    test_pre_record.append(pre_label_num/test_count_num)\n",
    "\n",
    "print('mean of NumofIns precisely classified',np.mean(test_pre_record))"
   ]
  },
  {
   "cell_type": "code",
   "execution_count": null,
   "metadata": {},
   "outputs": [],
   "source": []
  },
  {
   "cell_type": "code",
   "execution_count": null,
   "metadata": {},
   "outputs": [],
   "source": []
  },
  {
   "cell_type": "code",
   "execution_count": null,
   "metadata": {},
   "outputs": [],
   "source": []
  }
 ],
 "metadata": {
  "kernelspec": {
   "display_name": "Python 3",
   "language": "python",
   "name": "python3"
  },
  "language_info": {
   "codemirror_mode": {
    "name": "ipython",
    "version": 3
   },
   "file_extension": ".py",
   "mimetype": "text/x-python",
   "name": "python",
   "nbconvert_exporter": "python",
   "pygments_lexer": "ipython3",
   "version": "3.7.3"
  }
 },
 "nbformat": 4,
 "nbformat_minor": 2
}
