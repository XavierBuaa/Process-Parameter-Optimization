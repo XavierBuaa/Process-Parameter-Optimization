{
 "cells": [
  {
   "cell_type": "code",
   "execution_count": 37,
   "metadata": {},
   "outputs": [],
   "source": [
    "import tkinter\n",
    "import numpy as np\n",
    "import pandas as pd\n",
    "from tkinter import *\n",
    "from tkinter import filedialog\n",
    "from tkinter import ttk\n",
    "\n",
    "import info_gain\n",
    "import preprocess\n",
    "import quality_predict\n",
    "import parameter_optimize"
   ]
  },
  {
   "cell_type": "code",
   "execution_count": 38,
   "metadata": {},
   "outputs": [],
   "source": [
    "def load_data():\n",
    "    def close_window():\n",
    "        csv_reader.destroy()\n",
    "        \n",
    "    csv_reader = Tk()\n",
    "    csv_reader.title(\"读取数据\")\n",
    "    \n",
    "    width = 580\n",
    "    height = 500\n",
    "    screenwidth = csv_reader.winfo_screenwidth()  \n",
    "    screenheight = csv_reader.winfo_screenheight() \n",
    "    alignstr = '%dx%d+%d+%d' % (width, height, (screenwidth-width)/2, (screenheight-height)/2)   \n",
    "    csv_reader.geometry(alignstr)\n",
    "\n",
    "    frame_data = Frame(csv_reader)\n",
    "    frame_btn = Frame(csv_reader)\n",
    "    \n",
    "    textLabel = Label(frame_data,\n",
    "                      text=\"零件数据\",\n",
    "                      justify=LEFT)\n",
    "    textLabel.pack(side=LEFT)\n",
    "    \n",
    "    columns = (\"编号\", \"径向切深\", \"轴向切深\", \"主轴转速\", \"质量标签\")\n",
    "    treeview = ttk.Treeview(frame_data, height=18, show=\"headings\", columns=columns)\n",
    "    treeview.column(\"编号\", width=100, anchor='center')\n",
    "    treeview.column(\"径向切深\", width=100, anchor='center')\n",
    "    treeview.column(\"轴向切深\", width=100, anchor='center')\n",
    "    treeview.column(\"主轴转速\", width=100, anchor='center')\n",
    "    treeview.column(\"质量标签\", width=100, anchor='center')\n",
    "\n",
    "    treeview.heading(\"编号\", text=\"编号\")\n",
    "    treeview.heading(\"径向切深\", text=\"径向切深\")\n",
    "    treeview.heading(\"轴向切深\", text=\"轴向切深\")\n",
    "    treeview.heading(\"主轴转速\", text=\"主轴转速\")\n",
    "    treeview.heading(\"质量标签\", text=\"质量标签\")\n",
    "    treeview.pack()\n",
    "    \n",
    "    file_name = filedialog.askopenfilename(title=\"打开文件\", filetypes=[(\"S2out\", \"*.csv\"), (\"All Files\", \"*\")])\n",
    "    raw_df = preprocess.GUI_csv_to_df(file_name)\n",
    "    \n",
    "    for index, row in raw_df.iterrows():\n",
    "        treeview.insert('', index, values=(index, row['Ae'], row[\"Ap\"], row[\"Rs\"], row[\"label\"]))\n",
    "    \n",
    "    btn1 = Button(frame_btn, text=\"打开文件\", font =(\"宋体\",20,'bold'), width=13, height=2, command=close_window)\n",
    "    btn1.pack(side=\"left\")\n",
    "    \n",
    "    frame_data.pack()\n",
    "    frame_btn.pack()\n",
    "    csv_reader.mainloop()\n",
    "    return file_name\n",
    "\n",
    "def func_select():\n",
    "    \n",
    "    def close_window():\n",
    "        func_select.destroy()\n",
    "        \n",
    "    func_select = Tk()\n",
    "    func_select.title(\"执行功能选取\")\n",
    "    \n",
    "    btn1 = Button(func_select, text=\"信息增益\", font =(\"宋体\",20,'bold'), width=13, height=8, command=close_window)\n",
    "    btn1.pack()\n",
    "    \n",
    "    btn2 = Button(func_select, text=\"质量预测\", font =(\"宋体\",20,'bold'), width=13, height=8, command=close_window)\n",
    "    btn2.pack()\n",
    "    \n",
    "    btn3 = Button(func_select, text=\"参数优化\", font =(\"宋体\",20,'bold'), width=13, height=8, command=close_window)\n",
    "    btn3.pack()\n",
    "    \n",
    "    func_select.mainloop()"
   ]
  },
  {
   "cell_type": "code",
   "execution_count": 39,
   "metadata": {},
   "outputs": [],
   "source": [
    "def main():\n",
    "    file_name = load_data()\n",
    "    print(file_name)\n",
    "    func_select()\n"
   ]
  },
  {
   "cell_type": "code",
   "execution_count": 40,
   "metadata": {},
   "outputs": [
    {
     "name": "stdout",
     "output_type": "stream",
     "text": [
      "/Users/xuejingyuan/Desktop/Github/Process-Parameter-Optimization/dataset/data.csv\n"
     ]
    }
   ],
   "source": [
    "main()"
   ]
  },
  {
   "cell_type": "code",
   "execution_count": null,
   "metadata": {},
   "outputs": [],
   "source": []
  }
 ],
 "metadata": {
  "kernelspec": {
   "display_name": "Python 3",
   "language": "python",
   "name": "python3"
  },
  "language_info": {
   "codemirror_mode": {
    "name": "ipython",
    "version": 3
   },
   "file_extension": ".py",
   "mimetype": "text/x-python",
   "name": "python",
   "nbconvert_exporter": "python",
   "pygments_lexer": "ipython3",
   "version": "3.7.3"
  }
 },
 "nbformat": 4,
 "nbformat_minor": 2
}
