{
 "cells": [
  {
   "cell_type": "code",
   "execution_count": 1,
   "metadata": {},
   "outputs": [],
   "source": [
    "#!/usr/bin/env python\n",
    "# -*- coding: utf-8 -*-\n",
    "# author:洪卫\n",
    " \n",
    "import tkinter as tk  # 使用Tkinter前需要先导入\n",
    " \n",
    "# 第1步，实例化object，建立窗口window\n",
    "window = tk.Tk()\n",
    " \n",
    "# 第2步，给窗口的可视化起名字\n",
    "window.title('My Window')\n",
    " \n",
    "# 第3步，设定窗口的大小(长 * 宽)\n",
    "window.geometry('500x300')  # 这里的乘是小x\n",
    " \n",
    "# 第4步，在图形界面上设定输入框控件entry框并放置\n",
    "e = tk.Entry(window, show = None)#显示成明文形式\n",
    "e.pack()\n",
    " \n",
    "# 第5步，定义两个触发事件时的函数insert_point和insert_end（注意：因为Python的执行顺序是从上往下，所以函数一定要放在按钮的上面）\n",
    "def insert_point(): # 在鼠标焦点处插入输入内容\n",
    "    var = e.get()\n",
    "    t.insert('insert', var)\n",
    "def insert_end():   # 在文本框内容最后接着插入输入内容\n",
    "    var = e.get()\n",
    "    t.insert('end', var)\n",
    "\n",
    "# 第6步，创建并放置两个按钮分别触发两种情况\n",
    "b1 = tk.Button(window, text='insert point', width=10,\n",
    "               height=2, command=insert_point)\n",
    "\n",
    "b1.pack()\n",
    "b2 = tk.Button(window, text='insert end', width=10,\n",
    "               height=2, command=insert_end)\n",
    "b2.pack()\n",
    " \n",
    "# 第7步，创建并放置一个多行文本框text用以显示，指定height=3为文本框是三个字符高度\n",
    "t = tk.Text(window, height=3)\n",
    "t.pack()\n",
    " \n",
    "# 第8步，主窗口循环显示\n",
    "window.mainloop()"
   ]
  },
  {
   "cell_type": "code",
   "execution_count": null,
   "metadata": {},
   "outputs": [],
   "source": []
  }
 ],
 "metadata": {
  "kernelspec": {
   "display_name": "Python 3",
   "language": "python",
   "name": "python3"
  },
  "language_info": {
   "codemirror_mode": {
    "name": "ipython",
    "version": 3
   },
   "file_extension": ".py",
   "mimetype": "text/x-python",
   "name": "python",
   "nbconvert_exporter": "python",
   "pygments_lexer": "ipython3",
   "version": "3.7.3"
  }
 },
 "nbformat": 4,
 "nbformat_minor": 2
}
